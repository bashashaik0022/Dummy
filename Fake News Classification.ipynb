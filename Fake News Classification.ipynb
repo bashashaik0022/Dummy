{
 "cells": [
  {
   "cell_type": "code",
   "execution_count": 1,
   "metadata": {},
   "outputs": [],
   "source": [
    "import os\n",
    "import zipfile\n",
    "import pandas as pd\n",
    "import numpy as np\n",
    "import matplotlib.pyplot as plt\n",
    "%matplotlib inline\n",
    "from re import search\n",
    "from wordcloud import WordCloud"
   ]
  },
  {
   "cell_type": "code",
   "execution_count": 2,
   "metadata": {},
   "outputs": [],
   "source": [
    "import seaborn as sns\n",
    "import re\n",
    "import string\n",
    "import itertools\n",
    "from bs4 import BeautifulSoup\n",
    "import nltk\n",
    "from nltk.corpus import stopwords\n",
    "from nltk.probability import FreqDist"
   ]
  },
  {
   "cell_type": "code",
   "execution_count": 3,
   "metadata": {},
   "outputs": [],
   "source": [
    "df=pd.read_csv('fake_news.csv')"
   ]
  },
  {
   "cell_type": "code",
   "execution_count": 4,
   "metadata": {},
   "outputs": [
    {
     "data": {
      "text/html": [
       "<div>\n",
       "<style scoped>\n",
       "    .dataframe tbody tr th:only-of-type {\n",
       "        vertical-align: middle;\n",
       "    }\n",
       "\n",
       "    .dataframe tbody tr th {\n",
       "        vertical-align: top;\n",
       "    }\n",
       "\n",
       "    .dataframe thead th {\n",
       "        text-align: right;\n",
       "    }\n",
       "</style>\n",
       "<table border=\"1\" class=\"dataframe\">\n",
       "  <thead>\n",
       "    <tr style=\"text-align: right;\">\n",
       "      <th></th>\n",
       "      <th>Unnamed: 0</th>\n",
       "      <th>id</th>\n",
       "      <th>headline</th>\n",
       "      <th>written_by</th>\n",
       "      <th>news</th>\n",
       "      <th>label</th>\n",
       "    </tr>\n",
       "  </thead>\n",
       "  <tbody>\n",
       "    <tr>\n",
       "      <th>0</th>\n",
       "      <td>0</td>\n",
       "      <td>9653</td>\n",
       "      <td>Ethics Questions Dogged Agriculture Nominee as...</td>\n",
       "      <td>Eric Lipton and Steve Eder</td>\n",
       "      <td>WASHINGTON  —   In Sonny Perdue’s telling, Geo...</td>\n",
       "      <td>0</td>\n",
       "    </tr>\n",
       "    <tr>\n",
       "      <th>1</th>\n",
       "      <td>1</td>\n",
       "      <td>10041</td>\n",
       "      <td>U.S. Must Dig Deep to Stop Argentina’s Lionel ...</td>\n",
       "      <td>David Waldstein</td>\n",
       "      <td>HOUSTON  —   Venezuela had a plan. It was a ta...</td>\n",
       "      <td>0</td>\n",
       "    </tr>\n",
       "    <tr>\n",
       "      <th>2</th>\n",
       "      <td>2</td>\n",
       "      <td>19113</td>\n",
       "      <td>Cotton to House: ’Do Not Walk the Plank and Vo...</td>\n",
       "      <td>Pam Key</td>\n",
       "      <td>Sunday on ABC’s “This Week,” while discussing ...</td>\n",
       "      <td>0</td>\n",
       "    </tr>\n",
       "    <tr>\n",
       "      <th>3</th>\n",
       "      <td>3</td>\n",
       "      <td>6868</td>\n",
       "      <td>Paul LePage, Besieged Maine Governor, Sends Co...</td>\n",
       "      <td>Jess Bidgood</td>\n",
       "      <td>AUGUSTA, Me.  —   The beleaguered Republican g...</td>\n",
       "      <td>0</td>\n",
       "    </tr>\n",
       "    <tr>\n",
       "      <th>4</th>\n",
       "      <td>4</td>\n",
       "      <td>7596</td>\n",
       "      <td>A Digital 9/11 If Trump Wins</td>\n",
       "      <td>Finian Cunningham</td>\n",
       "      <td>Finian Cunningham has written extensively on...</td>\n",
       "      <td>1</td>\n",
       "    </tr>\n",
       "  </tbody>\n",
       "</table>\n",
       "</div>"
      ],
      "text/plain": [
       "   Unnamed: 0     id                                           headline  \\\n",
       "0           0   9653  Ethics Questions Dogged Agriculture Nominee as...   \n",
       "1           1  10041  U.S. Must Dig Deep to Stop Argentina’s Lionel ...   \n",
       "2           2  19113  Cotton to House: ’Do Not Walk the Plank and Vo...   \n",
       "3           3   6868  Paul LePage, Besieged Maine Governor, Sends Co...   \n",
       "4           4   7596                       A Digital 9/11 If Trump Wins   \n",
       "\n",
       "                   written_by  \\\n",
       "0  Eric Lipton and Steve Eder   \n",
       "1             David Waldstein   \n",
       "2                     Pam Key   \n",
       "3                Jess Bidgood   \n",
       "4           Finian Cunningham   \n",
       "\n",
       "                                                news  label  \n",
       "0  WASHINGTON  —   In Sonny Perdue’s telling, Geo...      0  \n",
       "1  HOUSTON  —   Venezuela had a plan. It was a ta...      0  \n",
       "2  Sunday on ABC’s “This Week,” while discussing ...      0  \n",
       "3  AUGUSTA, Me.  —   The beleaguered Republican g...      0  \n",
       "4    Finian Cunningham has written extensively on...      1  "
      ]
     },
     "execution_count": 4,
     "metadata": {},
     "output_type": "execute_result"
    }
   ],
   "source": [
    "df.head()"
   ]
  },
  {
   "cell_type": "code",
   "execution_count": 5,
   "metadata": {},
   "outputs": [],
   "source": [
    "X=df.drop('label',axis=1)"
   ]
  },
  {
   "cell_type": "code",
   "execution_count": 6,
   "metadata": {},
   "outputs": [
    {
     "data": {
      "text/html": [
       "<div>\n",
       "<style scoped>\n",
       "    .dataframe tbody tr th:only-of-type {\n",
       "        vertical-align: middle;\n",
       "    }\n",
       "\n",
       "    .dataframe tbody tr th {\n",
       "        vertical-align: top;\n",
       "    }\n",
       "\n",
       "    .dataframe thead th {\n",
       "        text-align: right;\n",
       "    }\n",
       "</style>\n",
       "<table border=\"1\" class=\"dataframe\">\n",
       "  <thead>\n",
       "    <tr style=\"text-align: right;\">\n",
       "      <th></th>\n",
       "      <th>Unnamed: 0</th>\n",
       "      <th>id</th>\n",
       "      <th>headline</th>\n",
       "      <th>written_by</th>\n",
       "      <th>news</th>\n",
       "    </tr>\n",
       "  </thead>\n",
       "  <tbody>\n",
       "    <tr>\n",
       "      <th>0</th>\n",
       "      <td>0</td>\n",
       "      <td>9653</td>\n",
       "      <td>Ethics Questions Dogged Agriculture Nominee as...</td>\n",
       "      <td>Eric Lipton and Steve Eder</td>\n",
       "      <td>WASHINGTON  —   In Sonny Perdue’s telling, Geo...</td>\n",
       "    </tr>\n",
       "    <tr>\n",
       "      <th>1</th>\n",
       "      <td>1</td>\n",
       "      <td>10041</td>\n",
       "      <td>U.S. Must Dig Deep to Stop Argentina’s Lionel ...</td>\n",
       "      <td>David Waldstein</td>\n",
       "      <td>HOUSTON  —   Venezuela had a plan. It was a ta...</td>\n",
       "    </tr>\n",
       "    <tr>\n",
       "      <th>2</th>\n",
       "      <td>2</td>\n",
       "      <td>19113</td>\n",
       "      <td>Cotton to House: ’Do Not Walk the Plank and Vo...</td>\n",
       "      <td>Pam Key</td>\n",
       "      <td>Sunday on ABC’s “This Week,” while discussing ...</td>\n",
       "    </tr>\n",
       "    <tr>\n",
       "      <th>3</th>\n",
       "      <td>3</td>\n",
       "      <td>6868</td>\n",
       "      <td>Paul LePage, Besieged Maine Governor, Sends Co...</td>\n",
       "      <td>Jess Bidgood</td>\n",
       "      <td>AUGUSTA, Me.  —   The beleaguered Republican g...</td>\n",
       "    </tr>\n",
       "    <tr>\n",
       "      <th>4</th>\n",
       "      <td>4</td>\n",
       "      <td>7596</td>\n",
       "      <td>A Digital 9/11 If Trump Wins</td>\n",
       "      <td>Finian Cunningham</td>\n",
       "      <td>Finian Cunningham has written extensively on...</td>\n",
       "    </tr>\n",
       "  </tbody>\n",
       "</table>\n",
       "</div>"
      ],
      "text/plain": [
       "   Unnamed: 0     id                                           headline  \\\n",
       "0           0   9653  Ethics Questions Dogged Agriculture Nominee as...   \n",
       "1           1  10041  U.S. Must Dig Deep to Stop Argentina’s Lionel ...   \n",
       "2           2  19113  Cotton to House: ’Do Not Walk the Plank and Vo...   \n",
       "3           3   6868  Paul LePage, Besieged Maine Governor, Sends Co...   \n",
       "4           4   7596                       A Digital 9/11 If Trump Wins   \n",
       "\n",
       "                   written_by  \\\n",
       "0  Eric Lipton and Steve Eder   \n",
       "1             David Waldstein   \n",
       "2                     Pam Key   \n",
       "3                Jess Bidgood   \n",
       "4           Finian Cunningham   \n",
       "\n",
       "                                                news  \n",
       "0  WASHINGTON  —   In Sonny Perdue’s telling, Geo...  \n",
       "1  HOUSTON  —   Venezuela had a plan. It was a ta...  \n",
       "2  Sunday on ABC’s “This Week,” while discussing ...  \n",
       "3  AUGUSTA, Me.  —   The beleaguered Republican g...  \n",
       "4    Finian Cunningham has written extensively on...  "
      ]
     },
     "execution_count": 6,
     "metadata": {},
     "output_type": "execute_result"
    }
   ],
   "source": [
    "X.head()\n"
   ]
  },
  {
   "cell_type": "code",
   "execution_count": 7,
   "metadata": {},
   "outputs": [],
   "source": [
    "\n",
    "## Get the Dependent features\n",
    "y=df['label']\n"
   ]
  },
  {
   "cell_type": "code",
   "execution_count": 8,
   "metadata": {},
   "outputs": [
    {
     "data": {
      "text/plain": [
       "0    0\n",
       "1    0\n",
       "2    0\n",
       "3    0\n",
       "4    1\n",
       "Name: label, dtype: int64"
      ]
     },
     "execution_count": 8,
     "metadata": {},
     "output_type": "execute_result"
    }
   ],
   "source": [
    "y.head()\n"
   ]
  },
  {
   "cell_type": "markdown",
   "metadata": {},
   "source": [
    "# Clean the Data"
   ]
  },
  {
   "cell_type": "code",
   "execution_count": 9,
   "metadata": {},
   "outputs": [],
   "source": [
    "# Check for missing data"
   ]
  },
  {
   "cell_type": "code",
   "execution_count": 10,
   "metadata": {},
   "outputs": [
    {
     "name": "stdout",
     "output_type": "stream",
     "text": [
      "<class 'pandas.core.frame.DataFrame'>\n",
      "RangeIndex: 20800 entries, 0 to 20799\n",
      "Data columns (total 6 columns):\n",
      " #   Column      Non-Null Count  Dtype \n",
      "---  ------      --------------  ----- \n",
      " 0   Unnamed: 0  20800 non-null  int64 \n",
      " 1   id          20800 non-null  int64 \n",
      " 2   headline    20242 non-null  object\n",
      " 3   written_by  18843 non-null  object\n",
      " 4   news        20761 non-null  object\n",
      " 5   label       20800 non-null  int64 \n",
      "dtypes: int64(3), object(3)\n",
      "memory usage: 975.1+ KB\n"
     ]
    }
   ],
   "source": [
    "df.info()"
   ]
  },
  {
   "cell_type": "code",
   "execution_count": 11,
   "metadata": {},
   "outputs": [],
   "source": [
    "df.drop(columns = ['Unnamed: 0','id','written_by'], inplace = True)"
   ]
  },
  {
   "cell_type": "code",
   "execution_count": 12,
   "metadata": {},
   "outputs": [
    {
     "name": "stdout",
     "output_type": "stream",
     "text": [
      "<class 'pandas.core.frame.DataFrame'>\n",
      "RangeIndex: 20800 entries, 0 to 20799\n",
      "Data columns (total 3 columns):\n",
      " #   Column    Non-Null Count  Dtype \n",
      "---  ------    --------------  ----- \n",
      " 0   headline  20242 non-null  object\n",
      " 1   news      20761 non-null  object\n",
      " 2   label     20800 non-null  int64 \n",
      "dtypes: int64(1), object(2)\n",
      "memory usage: 487.6+ KB\n"
     ]
    }
   ],
   "source": [
    "df.info()"
   ]
  },
  {
   "cell_type": "code",
   "execution_count": 13,
   "metadata": {},
   "outputs": [],
   "source": [
    "# Dropping the rows which have null values\n",
    "df.dropna(subset = ['headline', 'news'], how = 'any', inplace = True)"
   ]
  },
  {
   "cell_type": "code",
   "execution_count": 14,
   "metadata": {},
   "outputs": [
    {
     "name": "stdout",
     "output_type": "stream",
     "text": [
      "<class 'pandas.core.frame.DataFrame'>\n",
      "Int64Index: 20203 entries, 0 to 20799\n",
      "Data columns (total 3 columns):\n",
      " #   Column    Non-Null Count  Dtype \n",
      "---  ------    --------------  ----- \n",
      " 0   headline  20203 non-null  object\n",
      " 1   news      20203 non-null  object\n",
      " 2   label     20203 non-null  int64 \n",
      "dtypes: int64(1), object(2)\n",
      "memory usage: 631.3+ KB\n"
     ]
    }
   ],
   "source": [
    "df.info()"
   ]
  },
  {
   "cell_type": "code",
   "execution_count": 15,
   "metadata": {},
   "outputs": [],
   "source": [
    "df.reset_index(inplace = True)"
   ]
  },
  {
   "cell_type": "code",
   "execution_count": 16,
   "metadata": {},
   "outputs": [],
   "source": [
    "# Check for placeholder values and duplicates"
   ]
  },
  {
   "cell_type": "code",
   "execution_count": 17,
   "metadata": {},
   "outputs": [],
   "source": [
    "title_value_counts = df.headline.value_counts()"
   ]
  },
  {
   "cell_type": "code",
   "execution_count": 18,
   "metadata": {},
   "outputs": [
    {
     "data": {
      "text/plain": [
       "The Dark Agenda Behind Globalism And Open Borders                                                                            5\n",
       "Get Ready For Civil Unrest: Survey Finds That Most Americans Are Concerned About Election Violence                           5\n",
       "The Fix Is In: NBC Affiliate Accidentally Posts Election Results A Week Early: Hillary Wins Presidency 42% to Trump’s 40%    4\n",
       "Let’s Be Clear – A Vote For Warmonger Hillary Clinton Is A Vote For World War 3                                              4\n",
       "If Hillary Clinton Is Charged With Obstruction Of Justice She Could Go To Prison For 20 Years                                4\n",
       "                                                                                                                            ..\n",
       "The Elite Have Hung Hillary Out to Dry? This Is a Short-Lived Victory by the People                                          2\n",
       "These New Solar Panels Use Sunlight to Create Clean Drinking Water from the Air                                              2\n",
       "Green Party’s Margaret Flowers Challenges US Senate Debate in Maryland as Undemocratic                                       2\n",
       "Democrats Contaminate Cliven Bundy Jury Pool with 700,000 Mailers Falsely Connecting Him to Las Vegas Cop Killers            2\n",
       "Trump Warns Of ‘Vote Flipping’ On Machines                                                                                   2\n",
       "Name: headline, Length: 369, dtype: int64"
      ]
     },
     "execution_count": 18,
     "metadata": {},
     "output_type": "execute_result"
    }
   ],
   "source": [
    "title_value_counts[title_value_counts > 1]"
   ]
  },
  {
   "cell_type": "code",
   "execution_count": 19,
   "metadata": {},
   "outputs": [
    {
     "data": {
      "text/html": [
       "<div>\n",
       "<style scoped>\n",
       "    .dataframe tbody tr th:only-of-type {\n",
       "        vertical-align: middle;\n",
       "    }\n",
       "\n",
       "    .dataframe tbody tr th {\n",
       "        vertical-align: top;\n",
       "    }\n",
       "\n",
       "    .dataframe thead th {\n",
       "        text-align: right;\n",
       "    }\n",
       "</style>\n",
       "<table border=\"1\" class=\"dataframe\">\n",
       "  <thead>\n",
       "    <tr style=\"text-align: right;\">\n",
       "      <th></th>\n",
       "      <th>index</th>\n",
       "      <th>headline</th>\n",
       "      <th>news</th>\n",
       "      <th>label</th>\n",
       "    </tr>\n",
       "  </thead>\n",
       "  <tbody>\n",
       "    <tr>\n",
       "      <th>2433</th>\n",
       "      <td>2493</td>\n",
       "      <td>The Dark Agenda Behind Globalism And Open Borders</td>\n",
       "      <td>The Dark Agenda Behind Globalism And Open Bord...</td>\n",
       "      <td>1</td>\n",
       "    </tr>\n",
       "    <tr>\n",
       "      <th>6143</th>\n",
       "      <td>6314</td>\n",
       "      <td>The Dark Agenda Behind Globalism And Open Borders</td>\n",
       "      <td>Date: October 28, 2016 in: Global Bankster Tak...</td>\n",
       "      <td>1</td>\n",
       "    </tr>\n",
       "    <tr>\n",
       "      <th>12871</th>\n",
       "      <td>13239</td>\n",
       "      <td>The Dark Agenda Behind Globalism And Open Borders</td>\n",
       "      <td>Alt-Market – by Brandon Smith \\nWhen people un...</td>\n",
       "      <td>1</td>\n",
       "    </tr>\n",
       "    <tr>\n",
       "      <th>17104</th>\n",
       "      <td>17603</td>\n",
       "      <td>The Dark Agenda Behind Globalism And Open Borders</td>\n",
       "      <td>The Dark Agenda Behind Globalism And Open Bord...</td>\n",
       "      <td>1</td>\n",
       "    </tr>\n",
       "    <tr>\n",
       "      <th>18247</th>\n",
       "      <td>18783</td>\n",
       "      <td>The Dark Agenda Behind Globalism And Open Borders</td>\n",
       "      <td>Leave a reply \\nBrandon Smith – When people un...</td>\n",
       "      <td>1</td>\n",
       "    </tr>\n",
       "  </tbody>\n",
       "</table>\n",
       "</div>"
      ],
      "text/plain": [
       "       index                                           headline  \\\n",
       "2433    2493  The Dark Agenda Behind Globalism And Open Borders   \n",
       "6143    6314  The Dark Agenda Behind Globalism And Open Borders   \n",
       "12871  13239  The Dark Agenda Behind Globalism And Open Borders   \n",
       "17104  17603  The Dark Agenda Behind Globalism And Open Borders   \n",
       "18247  18783  The Dark Agenda Behind Globalism And Open Borders   \n",
       "\n",
       "                                                    news  label  \n",
       "2433   The Dark Agenda Behind Globalism And Open Bord...      1  \n",
       "6143   Date: October 28, 2016 in: Global Bankster Tak...      1  \n",
       "12871  Alt-Market – by Brandon Smith \\nWhen people un...      1  \n",
       "17104  The Dark Agenda Behind Globalism And Open Bord...      1  \n",
       "18247  Leave a reply \\nBrandon Smith – When people un...      1  "
      ]
     },
     "execution_count": 19,
     "metadata": {},
     "output_type": "execute_result"
    }
   ],
   "source": [
    "df[df.headline == 'The Dark Agenda Behind Globalism And Open Borders']\n"
   ]
  },
  {
   "cell_type": "code",
   "execution_count": 20,
   "metadata": {},
   "outputs": [
    {
     "data": {
      "text/plain": [
       "'Bruce Springsteen blasts President Donald Trump as a “con man” and calls his administration “crooks” in a new protest song released this week. [“That’s What Makes Us Great” is a joint effort between The Boss and frequent collaborator Joe Grushecky and the Houserockers.  “Don’t tell me a   And sell it as a   I’ve been down that road   And I ain’t going back,” Springsteen sings on the track, which was released Wednesday morning on Grushecky’s website. “Don’t you brag to   That you never read a   I never put my   In a con man and his crooks,” the song continues. Grushecky  —   whose 1995 album American Babylon was produced by Springsteen  —   told the Pittsburgh   that he’d written the song before the Boss got involved. Springsteen reportedly sent his part to the   musician over the Internet. “I had this song, and Bruce and I had been talking. I sent it to him and he liked it,” Grushecky told the paper. “I said, ‘What do you think about singing on it?’ He gave it the Bruce treatment. ” Springsteen was vocal supporter of former Democratic presidential candidate Hillary Clinton and a fierce critic of Trump during the 2016 campaign. In September, the    E Street Band leader called Trump a “moron” in an interview with Rolling Stone. “The republic is under siege by a moron, basically. The whole thing is tragic,” he said. “Without overstating it, it’s a tragedy for our democracy. When you start talking about elections being rigged, you’re pushing people beyond democratic governance. And it’s a very, very dangerous thing to do. ” On the eve of the election, Springsteen performed at a   campaign rally for Clinton in Philadelphia, where he predicted Trump and his campaign were “going down. ” “Let’s all do our part so that we can look back on 2016 and say, ‘We stood with Hillary Clinton on the right side of history,’” he said then.   Follow Daniel Nussbaum on Twitter: @dznussbaum'"
      ]
     },
     "execution_count": 20,
     "metadata": {},
     "output_type": "execute_result"
    }
   ],
   "source": [
    "df.iloc[2493].news"
   ]
  },
  {
   "cell_type": "code",
   "execution_count": 21,
   "metadata": {},
   "outputs": [
    {
     "data": {
      "text/plain": [
       "'WASHINGTON  —   Hillary Clinton assailed Donald J. Trump on Friday as untrustworthy on women’s issues, sharpening her tone against him in her first major speech since becoming the presumptive Democratic presidential nominee. Finally free to focus on the general election, Mrs. Clinton signaled that she planned to hit her likely Republican opponent in an area of perceived weakness while working to mend fissures within her own party by focusing on issues dear to progressives, such as protecting abortion rights and funding for Planned Parenthood. “When Donald Trump says, ‘Let’s make America great again,’ that is code for let’s take America backward,” Mrs. Clinton said at a Planned Parenthood Action Fund event in Washington. In a   speech, Mrs. Clinton seized on Mr. Trump’s suggestion in March that abortion be banned and that women who violate such a ban face punishment. Although he later retracted the remark amid a bipartisan backlash, Mrs. Clinton made clear that she would not let it go. “Anyone who would so casually agree with the idea of punishing women, like it was nothing to him, the most obvious thing in the world, that’s someone who doesn’t hold women in high regard,” Mrs. Clinton said to loud applause. Mrs. Clinton said that protecting Planned Parenthood’s funding was a top priority amid an onslaught from Republicans who have threatened to shut down the government over its opposition to the organization. She also called for the repeal of the Hyde Amendment, which bans the use of government money for abortions. Mrs. Clinton has struggled at times this year to appeal to younger women, but she does not expect that to be a problem against Mr. Trump. Her campaign plans to regularly remind female voters about his penchant for making sexist remarks, such as referring to women as “fat pigs” and “dogs. ” On Friday she quoted Mr. Trump as saying that he thought   leave made the country less competitive and that women should work harder if they wanted to earn more. Mr. Trump has said that he will be better for women than Mrs. Clinton, but polls show that so far he is turning them off in a big way. A Gallup survey from April found that 70 percent of women in the country had an unfavorable opinion him. By making Planned Parenthood Action her first campaign stop after capturing the nomination, Mrs. Clinton demonstrated that, instead of making a quick pivot to the center, she is intent on rallying the Democratic base after a bruising primary campaign against Senator Bernie Sanders. Another important step toward party unity came on Thursday night when Senator Elizabeth Warren of Massachusetts offered a rousing endorsement of Mrs. Clinton. The two women met privately on Friday morning in Washington to discuss the party’s path forward and how to beat Mr. Trump in November. Ms. Warren is a favorite of the progressive wing of the party and has become one of its most vocal and effective critics of Mr. Trump. She described Mr. Trump as a “racist bully” in a speech on Wednesday night and made a forceful case for Mrs. Clinton’s candidacy. The meeting Friday could also fan speculation that Ms. Warren is on Mrs. Clinton’s shortlist of potential running mates. While she has maintained that she loves her current job, Ms. Warren did say Thursday night on MSNBC that she felt she had the capacity to be president. For now Mrs. Clinton is taking on Mr. Trump on her own, and after a difficult week for him in which he drew widespread condemnation for making racist remarks about a federal judge, she is not holding back. She mocked him for walking back his claim that Judge Gonzalo P. Curiel  —   who is presiding over a lawsuit against Trump University  —   was biased because of his Mexican heritage and lamented Mr. Trump’s disparaging treatment of a disabled reporter. Both were examples, she said, of how a Trump presidency would be problematic for more than just women. “Donald Trump would take us in the wrong direction on so many issues that we care about,” Mrs. Clinton said. “He does not see all Americans as Americans. ”'"
      ]
     },
     "execution_count": 21,
     "metadata": {},
     "output_type": "execute_result"
    }
   ],
   "source": [
    "df.iloc[17603].news"
   ]
  },
  {
   "cell_type": "code",
   "execution_count": 22,
   "metadata": {},
   "outputs": [],
   "source": [
    "# Next I'll make a dataframe with all the data with duplicate titles"
   ]
  },
  {
   "cell_type": "code",
   "execution_count": 23,
   "metadata": {},
   "outputs": [],
   "source": [
    "duplicate_title_list = set(title_value_counts[title_value_counts > 1].keys())"
   ]
  },
  {
   "cell_type": "code",
   "execution_count": 24,
   "metadata": {},
   "outputs": [
    {
     "data": {
      "text/html": [
       "<div>\n",
       "<style scoped>\n",
       "    .dataframe tbody tr th:only-of-type {\n",
       "        vertical-align: middle;\n",
       "    }\n",
       "\n",
       "    .dataframe tbody tr th {\n",
       "        vertical-align: top;\n",
       "    }\n",
       "\n",
       "    .dataframe thead th {\n",
       "        text-align: right;\n",
       "    }\n",
       "</style>\n",
       "<table border=\"1\" class=\"dataframe\">\n",
       "  <thead>\n",
       "    <tr style=\"text-align: right;\">\n",
       "      <th></th>\n",
       "      <th>index</th>\n",
       "      <th>headline</th>\n",
       "      <th>news</th>\n",
       "      <th>label</th>\n",
       "    </tr>\n",
       "  </thead>\n",
       "  <tbody>\n",
       "    <tr>\n",
       "      <th>15</th>\n",
       "      <td>17</td>\n",
       "      <td>Millions of South Koreans Rise Up Against Shad...</td>\n",
       "      <td>Your News Wire \\nSouth Koreans are rising up i...</td>\n",
       "      <td>1</td>\n",
       "    </tr>\n",
       "    <tr>\n",
       "      <th>44</th>\n",
       "      <td>47</td>\n",
       "      <td>Las imágenes libres de derechos más destacadas...</td>\n",
       "      <td>Las imágenes libres de derechos más destacadas...</td>\n",
       "      <td>1</td>\n",
       "    </tr>\n",
       "    <tr>\n",
       "      <th>62</th>\n",
       "      <td>66</td>\n",
       "      <td>Young patient</td>\n",
       "      <td>Anatomy lesson Published: 12 mins ago \\nEditor...</td>\n",
       "      <td>1</td>\n",
       "    </tr>\n",
       "    <tr>\n",
       "      <th>74</th>\n",
       "      <td>79</td>\n",
       "      <td>Thomas Frank Explores Whether Hillary Clinton ...</td>\n",
       "      <td></td>\n",
       "      <td>1</td>\n",
       "    </tr>\n",
       "    <tr>\n",
       "      <th>79</th>\n",
       "      <td>84</td>\n",
       "      <td>Russia is Hoarding Gold at an Alarming Rate — ...</td>\n",
       "      <td>Home / Be The Change / Antiwar / Russia is Hoa...</td>\n",
       "      <td>1</td>\n",
       "    </tr>\n",
       "    <tr>\n",
       "      <th>...</th>\n",
       "      <td>...</td>\n",
       "      <td>...</td>\n",
       "      <td>...</td>\n",
       "      <td>...</td>\n",
       "    </tr>\n",
       "    <tr>\n",
       "      <th>20042</th>\n",
       "      <td>20633</td>\n",
       "      <td>WHO cancer agency under fire for withholding ‘...</td>\n",
       "      <td>The International Agency for Research on Cance...</td>\n",
       "      <td>1</td>\n",
       "    </tr>\n",
       "    <tr>\n",
       "      <th>20084</th>\n",
       "      <td>20677</td>\n",
       "      <td>Rigged Primary, Media, and Candidate; the Amer...</td>\n",
       "      <td>Email \\n\\nThe excitement over the US election ...</td>\n",
       "      <td>1</td>\n",
       "    </tr>\n",
       "    <tr>\n",
       "      <th>20123</th>\n",
       "      <td>20717</td>\n",
       "      <td>Jeddah airport was targeted by Ansar Allah mis...</td>\n",
       "      <td>Email \\n\\nAn informed source in Yemen's AnsarA...</td>\n",
       "      <td>1</td>\n",
       "    </tr>\n",
       "    <tr>\n",
       "      <th>20157</th>\n",
       "      <td>20753</td>\n",
       "      <td>Las imágenes libres de derechos más destacadas...</td>\n",
       "      <td>Las imágenes libres de derechos más destacadas...</td>\n",
       "      <td>1</td>\n",
       "    </tr>\n",
       "    <tr>\n",
       "      <th>20163</th>\n",
       "      <td>20759</td>\n",
       "      <td>‘Arab Spring’ and the Washington-Brussels-Riya...</td>\n",
       "      <td>I thought I was just scared of Trump – but it’...</td>\n",
       "      <td>1</td>\n",
       "    </tr>\n",
       "  </tbody>\n",
       "</table>\n",
       "<p>808 rows × 4 columns</p>\n",
       "</div>"
      ],
      "text/plain": [
       "       index                                           headline  \\\n",
       "15        17  Millions of South Koreans Rise Up Against Shad...   \n",
       "44        47  Las imágenes libres de derechos más destacadas...   \n",
       "62        66                                      Young patient   \n",
       "74        79  Thomas Frank Explores Whether Hillary Clinton ...   \n",
       "79        84  Russia is Hoarding Gold at an Alarming Rate — ...   \n",
       "...      ...                                                ...   \n",
       "20042  20633  WHO cancer agency under fire for withholding ‘...   \n",
       "20084  20677  Rigged Primary, Media, and Candidate; the Amer...   \n",
       "20123  20717  Jeddah airport was targeted by Ansar Allah mis...   \n",
       "20157  20753  Las imágenes libres de derechos más destacadas...   \n",
       "20163  20759  ‘Arab Spring’ and the Washington-Brussels-Riya...   \n",
       "\n",
       "                                                    news  label  \n",
       "15     Your News Wire \\nSouth Koreans are rising up i...      1  \n",
       "44     Las imágenes libres de derechos más destacadas...      1  \n",
       "62     Anatomy lesson Published: 12 mins ago \\nEditor...      1  \n",
       "74                                                            1  \n",
       "79     Home / Be The Change / Antiwar / Russia is Hoa...      1  \n",
       "...                                                  ...    ...  \n",
       "20042  The International Agency for Research on Cance...      1  \n",
       "20084  Email \\n\\nThe excitement over the US election ...      1  \n",
       "20123  Email \\n\\nAn informed source in Yemen's AnsarA...      1  \n",
       "20157  Las imágenes libres de derechos más destacadas...      1  \n",
       "20163  I thought I was just scared of Trump – but it’...      1  \n",
       "\n",
       "[808 rows x 4 columns]"
      ]
     },
     "execution_count": 24,
     "metadata": {},
     "output_type": "execute_result"
    }
   ],
   "source": [
    "df_dup_titles = df[df.headline.isin(duplicate_title_list)]\n",
    "df_dup_titles"
   ]
  },
  {
   "cell_type": "code",
   "execution_count": 25,
   "metadata": {},
   "outputs": [
    {
     "data": {
      "text/html": [
       "<div>\n",
       "<style scoped>\n",
       "    .dataframe tbody tr th:only-of-type {\n",
       "        vertical-align: middle;\n",
       "    }\n",
       "\n",
       "    .dataframe tbody tr th {\n",
       "        vertical-align: top;\n",
       "    }\n",
       "\n",
       "    .dataframe thead th {\n",
       "        text-align: right;\n",
       "    }\n",
       "</style>\n",
       "<table border=\"1\" class=\"dataframe\">\n",
       "  <thead>\n",
       "    <tr style=\"text-align: right;\">\n",
       "      <th></th>\n",
       "      <th>index</th>\n",
       "      <th>headline</th>\n",
       "      <th>news</th>\n",
       "      <th>label</th>\n",
       "    </tr>\n",
       "  </thead>\n",
       "  <tbody>\n",
       "  </tbody>\n",
       "</table>\n",
       "</div>"
      ],
      "text/plain": [
       "Empty DataFrame\n",
       "Columns: [index, headline, news, label]\n",
       "Index: []"
      ]
     },
     "execution_count": 25,
     "metadata": {},
     "output_type": "execute_result"
    }
   ],
   "source": [
    "df_dup_titles[df_dup_titles.duplicated()]"
   ]
  },
  {
   "cell_type": "markdown",
   "metadata": {},
   "source": [
    "There are 70 duplicate rows that will need to be deleted."
   ]
  },
  {
   "cell_type": "markdown",
   "metadata": {},
   "source": [
    "Check for rows with duplicate news"
   ]
  },
  {
   "cell_type": "code",
   "execution_count": 26,
   "metadata": {},
   "outputs": [
    {
     "data": {
      "text/html": [
       "<div>\n",
       "<style scoped>\n",
       "    .dataframe tbody tr th:only-of-type {\n",
       "        vertical-align: middle;\n",
       "    }\n",
       "\n",
       "    .dataframe tbody tr th {\n",
       "        vertical-align: top;\n",
       "    }\n",
       "\n",
       "    .dataframe thead th {\n",
       "        text-align: right;\n",
       "    }\n",
       "</style>\n",
       "<table border=\"1\" class=\"dataframe\">\n",
       "  <thead>\n",
       "    <tr style=\"text-align: right;\">\n",
       "      <th></th>\n",
       "      <th>index</th>\n",
       "      <th>headline</th>\n",
       "      <th>news</th>\n",
       "      <th>label</th>\n",
       "    </tr>\n",
       "  </thead>\n",
       "  <tbody>\n",
       "    <tr>\n",
       "      <th>1775</th>\n",
       "      <td>1818</td>\n",
       "      <td>JASON CHAFFETZ EXPOSED HILLARY CLINTON’S PLAN ...</td>\n",
       "      <td>The Corruption of the Clinton’s is like an end...</td>\n",
       "      <td>1</td>\n",
       "    </tr>\n",
       "    <tr>\n",
       "      <th>4890</th>\n",
       "      <td>5016</td>\n",
       "      <td>The U.S./Turkey Plan For “Seizing, Holding, An...</td>\n",
       "      <td>By Brandon Turbeville As the U.S. Presidential...</td>\n",
       "      <td>1</td>\n",
       "    </tr>\n",
       "    <tr>\n",
       "      <th>4977</th>\n",
       "      <td>5110</td>\n",
       "      <td>19 men cry rape by Iran's top Quran reader</td>\n",
       "      <td>Print Saeed Toosi, right, and Ayatollah Khamen...</td>\n",
       "      <td>1</td>\n",
       "    </tr>\n",
       "    <tr>\n",
       "      <th>5143</th>\n",
       "      <td>5284</td>\n",
       "      <td>North Korea Threatens ‘Sacred’ Nuclear War Aga...</td>\n",
       "      <td>Email \\nNorth Korea’s Foreign Ministry slammed...</td>\n",
       "      <td>1</td>\n",
       "    </tr>\n",
       "    <tr>\n",
       "      <th>5247</th>\n",
       "      <td>5390</td>\n",
       "      <td>FEAR OF TRUMP: BUSH, OBAMA, CLINTON ALL BUYING...</td>\n",
       "      <td>Email \\n\\nIt appears Bill and Hillary Clinton ...</td>\n",
       "      <td>1</td>\n",
       "    </tr>\n",
       "    <tr>\n",
       "      <th>...</th>\n",
       "      <td>...</td>\n",
       "      <td>...</td>\n",
       "      <td>...</td>\n",
       "      <td>...</td>\n",
       "    </tr>\n",
       "    <tr>\n",
       "      <th>19386</th>\n",
       "      <td>19953</td>\n",
       "      <td>War Less Imminent After Clinton Defeat</td>\n",
       "      <td>2016 presidential campaign A Black Agenda Radi...</td>\n",
       "      <td>1</td>\n",
       "    </tr>\n",
       "    <tr>\n",
       "      <th>19802</th>\n",
       "      <td>20385</td>\n",
       "      <td>Donald J. Trump’s 10 Point Plan to Put America...</td>\n",
       "      <td>Tweet Widget by Tanya Golash-Boza \\nHow will D...</td>\n",
       "      <td>1</td>\n",
       "    </tr>\n",
       "    <tr>\n",
       "      <th>19990</th>\n",
       "      <td>20580</td>\n",
       "      <td>Rand Paul: Polls Showing Hillary Ahead Are ‘De...</td>\n",
       "      <td>Email \\n\\nWednesday on 800 WVHU radio’s “The T...</td>\n",
       "      <td>1</td>\n",
       "    </tr>\n",
       "    <tr>\n",
       "      <th>20084</th>\n",
       "      <td>20677</td>\n",
       "      <td>Rigged Primary, Media, and Candidate; the Amer...</td>\n",
       "      <td>Email \\n\\nThe excitement over the US election ...</td>\n",
       "      <td>1</td>\n",
       "    </tr>\n",
       "    <tr>\n",
       "      <th>20123</th>\n",
       "      <td>20717</td>\n",
       "      <td>Jeddah airport was targeted by Ansar Allah mis...</td>\n",
       "      <td>Email \\n\\nAn informed source in Yemen's AnsarA...</td>\n",
       "      <td>1</td>\n",
       "    </tr>\n",
       "  </tbody>\n",
       "</table>\n",
       "<p>73 rows × 4 columns</p>\n",
       "</div>"
      ],
      "text/plain": [
       "       index                                           headline  \\\n",
       "1775    1818  JASON CHAFFETZ EXPOSED HILLARY CLINTON’S PLAN ...   \n",
       "4890    5016  The U.S./Turkey Plan For “Seizing, Holding, An...   \n",
       "4977    5110         19 men cry rape by Iran's top Quran reader   \n",
       "5143    5284  North Korea Threatens ‘Sacred’ Nuclear War Aga...   \n",
       "5247    5390  FEAR OF TRUMP: BUSH, OBAMA, CLINTON ALL BUYING...   \n",
       "...      ...                                                ...   \n",
       "19386  19953             War Less Imminent After Clinton Defeat   \n",
       "19802  20385  Donald J. Trump’s 10 Point Plan to Put America...   \n",
       "19990  20580  Rand Paul: Polls Showing Hillary Ahead Are ‘De...   \n",
       "20084  20677  Rigged Primary, Media, and Candidate; the Amer...   \n",
       "20123  20717  Jeddah airport was targeted by Ansar Allah mis...   \n",
       "\n",
       "                                                    news  label  \n",
       "1775   The Corruption of the Clinton’s is like an end...      1  \n",
       "4890   By Brandon Turbeville As the U.S. Presidential...      1  \n",
       "4977   Print Saeed Toosi, right, and Ayatollah Khamen...      1  \n",
       "5143   Email \\nNorth Korea’s Foreign Ministry slammed...      1  \n",
       "5247   Email \\n\\nIt appears Bill and Hillary Clinton ...      1  \n",
       "...                                                  ...    ...  \n",
       "19386  2016 presidential campaign A Black Agenda Radi...      1  \n",
       "19802  Tweet Widget by Tanya Golash-Boza \\nHow will D...      1  \n",
       "19990  Email \\n\\nWednesday on 800 WVHU radio’s “The T...      1  \n",
       "20084  Email \\n\\nThe excitement over the US election ...      1  \n",
       "20123  Email \\n\\nAn informed source in Yemen's AnsarA...      1  \n",
       "\n",
       "[73 rows x 4 columns]"
      ]
     },
     "execution_count": 26,
     "metadata": {},
     "output_type": "execute_result"
    }
   ],
   "source": [
    "df_dup_titles[df_dup_titles.duplicated(['news'])]"
   ]
  },
  {
   "cell_type": "markdown",
   "metadata": {},
   "source": [
    "Check for rows that have duplicate headline and news"
   ]
  },
  {
   "cell_type": "code",
   "execution_count": 27,
   "metadata": {},
   "outputs": [
    {
     "data": {
      "text/html": [
       "<div>\n",
       "<style scoped>\n",
       "    .dataframe tbody tr th:only-of-type {\n",
       "        vertical-align: middle;\n",
       "    }\n",
       "\n",
       "    .dataframe tbody tr th {\n",
       "        vertical-align: top;\n",
       "    }\n",
       "\n",
       "    .dataframe thead th {\n",
       "        text-align: right;\n",
       "    }\n",
       "</style>\n",
       "<table border=\"1\" class=\"dataframe\">\n",
       "  <thead>\n",
       "    <tr style=\"text-align: right;\">\n",
       "      <th></th>\n",
       "      <th>index</th>\n",
       "      <th>headline</th>\n",
       "      <th>news</th>\n",
       "      <th>label</th>\n",
       "    </tr>\n",
       "  </thead>\n",
       "  <tbody>\n",
       "    <tr>\n",
       "      <th>1775</th>\n",
       "      <td>1818</td>\n",
       "      <td>JASON CHAFFETZ EXPOSED HILLARY CLINTON’S PLAN ...</td>\n",
       "      <td>The Corruption of the Clinton’s is like an end...</td>\n",
       "      <td>1</td>\n",
       "    </tr>\n",
       "    <tr>\n",
       "      <th>4890</th>\n",
       "      <td>5016</td>\n",
       "      <td>The U.S./Turkey Plan For “Seizing, Holding, An...</td>\n",
       "      <td>By Brandon Turbeville As the U.S. Presidential...</td>\n",
       "      <td>1</td>\n",
       "    </tr>\n",
       "    <tr>\n",
       "      <th>4977</th>\n",
       "      <td>5110</td>\n",
       "      <td>19 men cry rape by Iran's top Quran reader</td>\n",
       "      <td>Print Saeed Toosi, right, and Ayatollah Khamen...</td>\n",
       "      <td>1</td>\n",
       "    </tr>\n",
       "    <tr>\n",
       "      <th>5143</th>\n",
       "      <td>5284</td>\n",
       "      <td>North Korea Threatens ‘Sacred’ Nuclear War Aga...</td>\n",
       "      <td>Email \\nNorth Korea’s Foreign Ministry slammed...</td>\n",
       "      <td>1</td>\n",
       "    </tr>\n",
       "    <tr>\n",
       "      <th>5247</th>\n",
       "      <td>5390</td>\n",
       "      <td>FEAR OF TRUMP: BUSH, OBAMA, CLINTON ALL BUYING...</td>\n",
       "      <td>Email \\n\\nIt appears Bill and Hillary Clinton ...</td>\n",
       "      <td>1</td>\n",
       "    </tr>\n",
       "    <tr>\n",
       "      <th>...</th>\n",
       "      <td>...</td>\n",
       "      <td>...</td>\n",
       "      <td>...</td>\n",
       "      <td>...</td>\n",
       "    </tr>\n",
       "    <tr>\n",
       "      <th>19386</th>\n",
       "      <td>19953</td>\n",
       "      <td>War Less Imminent After Clinton Defeat</td>\n",
       "      <td>2016 presidential campaign A Black Agenda Radi...</td>\n",
       "      <td>1</td>\n",
       "    </tr>\n",
       "    <tr>\n",
       "      <th>19802</th>\n",
       "      <td>20385</td>\n",
       "      <td>Donald J. Trump’s 10 Point Plan to Put America...</td>\n",
       "      <td>Tweet Widget by Tanya Golash-Boza \\nHow will D...</td>\n",
       "      <td>1</td>\n",
       "    </tr>\n",
       "    <tr>\n",
       "      <th>19990</th>\n",
       "      <td>20580</td>\n",
       "      <td>Rand Paul: Polls Showing Hillary Ahead Are ‘De...</td>\n",
       "      <td>Email \\n\\nWednesday on 800 WVHU radio’s “The T...</td>\n",
       "      <td>1</td>\n",
       "    </tr>\n",
       "    <tr>\n",
       "      <th>20084</th>\n",
       "      <td>20677</td>\n",
       "      <td>Rigged Primary, Media, and Candidate; the Amer...</td>\n",
       "      <td>Email \\n\\nThe excitement over the US election ...</td>\n",
       "      <td>1</td>\n",
       "    </tr>\n",
       "    <tr>\n",
       "      <th>20123</th>\n",
       "      <td>20717</td>\n",
       "      <td>Jeddah airport was targeted by Ansar Allah mis...</td>\n",
       "      <td>Email \\n\\nAn informed source in Yemen's AnsarA...</td>\n",
       "      <td>1</td>\n",
       "    </tr>\n",
       "  </tbody>\n",
       "</table>\n",
       "<p>70 rows × 4 columns</p>\n",
       "</div>"
      ],
      "text/plain": [
       "       index                                           headline  \\\n",
       "1775    1818  JASON CHAFFETZ EXPOSED HILLARY CLINTON’S PLAN ...   \n",
       "4890    5016  The U.S./Turkey Plan For “Seizing, Holding, An...   \n",
       "4977    5110         19 men cry rape by Iran's top Quran reader   \n",
       "5143    5284  North Korea Threatens ‘Sacred’ Nuclear War Aga...   \n",
       "5247    5390  FEAR OF TRUMP: BUSH, OBAMA, CLINTON ALL BUYING...   \n",
       "...      ...                                                ...   \n",
       "19386  19953             War Less Imminent After Clinton Defeat   \n",
       "19802  20385  Donald J. Trump’s 10 Point Plan to Put America...   \n",
       "19990  20580  Rand Paul: Polls Showing Hillary Ahead Are ‘De...   \n",
       "20084  20677  Rigged Primary, Media, and Candidate; the Amer...   \n",
       "20123  20717  Jeddah airport was targeted by Ansar Allah mis...   \n",
       "\n",
       "                                                    news  label  \n",
       "1775   The Corruption of the Clinton’s is like an end...      1  \n",
       "4890   By Brandon Turbeville As the U.S. Presidential...      1  \n",
       "4977   Print Saeed Toosi, right, and Ayatollah Khamen...      1  \n",
       "5143   Email \\nNorth Korea’s Foreign Ministry slammed...      1  \n",
       "5247   Email \\n\\nIt appears Bill and Hillary Clinton ...      1  \n",
       "...                                                  ...    ...  \n",
       "19386  2016 presidential campaign A Black Agenda Radi...      1  \n",
       "19802  Tweet Widget by Tanya Golash-Boza \\nHow will D...      1  \n",
       "19990  Email \\n\\nWednesday on 800 WVHU radio’s “The T...      1  \n",
       "20084  Email \\n\\nThe excitement over the US election ...      1  \n",
       "20123  Email \\n\\nAn informed source in Yemen's AnsarA...      1  \n",
       "\n",
       "[70 rows x 4 columns]"
      ]
     },
     "execution_count": 27,
     "metadata": {},
     "output_type": "execute_result"
    }
   ],
   "source": [
    "df_dup_titles[df_dup_titles.duplicated(['headline', 'news'])]\n"
   ]
  },
  {
   "cell_type": "code",
   "execution_count": 28,
   "metadata": {},
   "outputs": [
    {
     "data": {
      "text/html": [
       "<div>\n",
       "<style scoped>\n",
       "    .dataframe tbody tr th:only-of-type {\n",
       "        vertical-align: middle;\n",
       "    }\n",
       "\n",
       "    .dataframe tbody tr th {\n",
       "        vertical-align: top;\n",
       "    }\n",
       "\n",
       "    .dataframe thead th {\n",
       "        text-align: right;\n",
       "    }\n",
       "</style>\n",
       "<table border=\"1\" class=\"dataframe\">\n",
       "  <thead>\n",
       "    <tr style=\"text-align: right;\">\n",
       "      <th></th>\n",
       "      <th>index</th>\n",
       "      <th>headline</th>\n",
       "      <th>news</th>\n",
       "      <th>label</th>\n",
       "    </tr>\n",
       "  </thead>\n",
       "  <tbody>\n",
       "    <tr>\n",
       "      <th>74</th>\n",
       "      <td>79</td>\n",
       "      <td>Thomas Frank Explores Whether Hillary Clinton ...</td>\n",
       "      <td></td>\n",
       "      <td>1</td>\n",
       "    </tr>\n",
       "    <tr>\n",
       "      <th>11256</th>\n",
       "      <td>11572</td>\n",
       "      <td>More on Trump’s Populism and How It Can Be Con...</td>\n",
       "      <td></td>\n",
       "      <td>1</td>\n",
       "    </tr>\n",
       "    <tr>\n",
       "      <th>14860</th>\n",
       "      <td>15286</td>\n",
       "      <td>Thomas Frank Explores Whether Hillary Clinton ...</td>\n",
       "      <td></td>\n",
       "      <td>1</td>\n",
       "    </tr>\n",
       "    <tr>\n",
       "      <th>16962</th>\n",
       "      <td>17458</td>\n",
       "      <td>More on Trump’s Populism and How It Can Be Con...</td>\n",
       "      <td></td>\n",
       "      <td>1</td>\n",
       "    </tr>\n",
       "  </tbody>\n",
       "</table>\n",
       "</div>"
      ],
      "text/plain": [
       "       index                                           headline news  label\n",
       "74        79  Thomas Frank Explores Whether Hillary Clinton ...           1\n",
       "11256  11572  More on Trump’s Populism and How It Can Be Con...           1\n",
       "14860  15286  Thomas Frank Explores Whether Hillary Clinton ...           1\n",
       "16962  17458  More on Trump’s Populism and How It Can Be Con...           1"
      ]
     },
     "execution_count": 28,
     "metadata": {},
     "output_type": "execute_result"
    }
   ],
   "source": [
    "df_dup_titles[df_dup_titles.news == ' ']"
   ]
  },
  {
   "cell_type": "markdown",
   "metadata": {},
   "source": [
    "The use of a duplicate headline seems to be a common practice and some articles seem to be revisions. A duplicate headline will be considered ok, but the duplicate rows and rows with duplicate news for the story will need removed. Rows without news will also need to be removed."
   ]
  },
  {
   "cell_type": "code",
   "execution_count": 29,
   "metadata": {},
   "outputs": [
    {
     "data": {
      "text/html": [
       "<div>\n",
       "<style scoped>\n",
       "    .dataframe tbody tr th:only-of-type {\n",
       "        vertical-align: middle;\n",
       "    }\n",
       "\n",
       "    .dataframe tbody tr th {\n",
       "        vertical-align: top;\n",
       "    }\n",
       "\n",
       "    .dataframe thead th {\n",
       "        text-align: right;\n",
       "    }\n",
       "</style>\n",
       "<table border=\"1\" class=\"dataframe\">\n",
       "  <thead>\n",
       "    <tr style=\"text-align: right;\">\n",
       "      <th></th>\n",
       "      <th>index</th>\n",
       "      <th>headline</th>\n",
       "      <th>news</th>\n",
       "      <th>label</th>\n",
       "    </tr>\n",
       "  </thead>\n",
       "  <tbody>\n",
       "    <tr>\n",
       "      <th>74</th>\n",
       "      <td>79</td>\n",
       "      <td>Thomas Frank Explores Whether Hillary Clinton ...</td>\n",
       "      <td></td>\n",
       "      <td>1</td>\n",
       "    </tr>\n",
       "    <tr>\n",
       "      <th>203</th>\n",
       "      <td>210</td>\n",
       "      <td>Hillary is Sick &amp; Tired of Suffering from Wein...</td>\n",
       "      <td></td>\n",
       "      <td>1</td>\n",
       "    </tr>\n",
       "    <tr>\n",
       "      <th>264</th>\n",
       "      <td>271</td>\n",
       "      <td>A Connecticut Reader Reports Record Voter Regi...</td>\n",
       "      <td></td>\n",
       "      <td>1</td>\n",
       "    </tr>\n",
       "    <tr>\n",
       "      <th>461</th>\n",
       "      <td>472</td>\n",
       "      <td>Not sure what to do with your time now Bake Of...</td>\n",
       "      <td></td>\n",
       "      <td>1</td>\n",
       "    </tr>\n",
       "    <tr>\n",
       "      <th>1539</th>\n",
       "      <td>1573</td>\n",
       "      <td>Citizens Reject Forced Diversity Policy by Sup...</td>\n",
       "      <td></td>\n",
       "      <td>1</td>\n",
       "    </tr>\n",
       "    <tr>\n",
       "      <th>...</th>\n",
       "      <td>...</td>\n",
       "      <td>...</td>\n",
       "      <td>...</td>\n",
       "      <td>...</td>\n",
       "    </tr>\n",
       "    <tr>\n",
       "      <th>19314</th>\n",
       "      <td>19880</td>\n",
       "      <td>Yes, Virginia (Dare), There ARE Righteous Jews...</td>\n",
       "      <td></td>\n",
       "      <td>1</td>\n",
       "    </tr>\n",
       "    <tr>\n",
       "      <th>19657</th>\n",
       "      <td>20232</td>\n",
       "      <td>Trump’s Closing Argument</td>\n",
       "      <td></td>\n",
       "      <td>1</td>\n",
       "    </tr>\n",
       "    <tr>\n",
       "      <th>19955</th>\n",
       "      <td>20543</td>\n",
       "      <td>Is your promising internet career over now Vin...</td>\n",
       "      <td></td>\n",
       "      <td>1</td>\n",
       "    </tr>\n",
       "    <tr>\n",
       "      <th>19970</th>\n",
       "      <td>20559</td>\n",
       "      <td>YIKES! HILLARY GOES OFF THE RAILS…Pulls A Howa...</td>\n",
       "      <td></td>\n",
       "      <td>1</td>\n",
       "    </tr>\n",
       "    <tr>\n",
       "      <th>20039</th>\n",
       "      <td>20630</td>\n",
       "      <td>John Derbyshire On Peter Thiel On Trump</td>\n",
       "      <td></td>\n",
       "      <td>1</td>\n",
       "    </tr>\n",
       "  </tbody>\n",
       "</table>\n",
       "<p>75 rows × 4 columns</p>\n",
       "</div>"
      ],
      "text/plain": [
       "       index                                           headline news  label\n",
       "74        79  Thomas Frank Explores Whether Hillary Clinton ...           1\n",
       "203      210  Hillary is Sick & Tired of Suffering from Wein...           1\n",
       "264      271  A Connecticut Reader Reports Record Voter Regi...           1\n",
       "461      472  Not sure what to do with your time now Bake Of...           1\n",
       "1539    1573  Citizens Reject Forced Diversity Policy by Sup...           1\n",
       "...      ...                                                ...  ...    ...\n",
       "19314  19880  Yes, Virginia (Dare), There ARE Righteous Jews...           1\n",
       "19657  20232                           Trump’s Closing Argument           1\n",
       "19955  20543  Is your promising internet career over now Vin...           1\n",
       "19970  20559  YIKES! HILLARY GOES OFF THE RAILS…Pulls A Howa...           1\n",
       "20039  20630            John Derbyshire On Peter Thiel On Trump           1\n",
       "\n",
       "[75 rows x 4 columns]"
      ]
     },
     "execution_count": 29,
     "metadata": {},
     "output_type": "execute_result"
    }
   ],
   "source": [
    "# Check for a text value with one space\n",
    "df[df.news == ' ']"
   ]
  },
  {
   "cell_type": "markdown",
   "metadata": {},
   "source": [
    "There could be an arbritray amount of whitespace so I will replace all news values that are only whitespace with Nan"
   ]
  },
  {
   "cell_type": "code",
   "execution_count": 30,
   "metadata": {},
   "outputs": [],
   "source": [
    "df = df.replace(r'^\\s*$', np.nan, regex=True)"
   ]
  },
  {
   "cell_type": "code",
   "execution_count": 31,
   "metadata": {},
   "outputs": [
    {
     "data": {
      "text/plain": [
       "index        0\n",
       "headline     0\n",
       "news        77\n",
       "label        0\n",
       "dtype: int64"
      ]
     },
     "execution_count": 31,
     "metadata": {},
     "output_type": "execute_result"
    }
   ],
   "source": [
    "df.isna().sum()"
   ]
  },
  {
   "cell_type": "markdown",
   "metadata": {},
   "source": [
    "# Remove Duplicate Data"
   ]
  },
  {
   "cell_type": "code",
   "execution_count": 32,
   "metadata": {},
   "outputs": [
    {
     "data": {
      "text/plain": [
       "20203"
      ]
     },
     "execution_count": 32,
     "metadata": {},
     "output_type": "execute_result"
    }
   ],
   "source": [
    "len(df)"
   ]
  },
  {
   "cell_type": "code",
   "execution_count": 33,
   "metadata": {},
   "outputs": [],
   "source": [
    "df_clean = df.drop_duplicates(ignore_index=True)"
   ]
  },
  {
   "cell_type": "code",
   "execution_count": 34,
   "metadata": {},
   "outputs": [
    {
     "data": {
      "text/plain": [
       "20203"
      ]
     },
     "execution_count": 34,
     "metadata": {},
     "output_type": "execute_result"
    }
   ],
   "source": [
    "len(df_clean)"
   ]
  },
  {
   "cell_type": "code",
   "execution_count": 35,
   "metadata": {},
   "outputs": [],
   "source": [
    "# Drop Rows with same title and text (keeping the first instance)\n",
    "df_clean = df_clean.drop_duplicates(['headline', 'news'], ignore_index=True)"
   ]
  },
  {
   "cell_type": "code",
   "execution_count": 36,
   "metadata": {},
   "outputs": [
    {
     "data": {
      "text/plain": [
       "20133"
      ]
     },
     "execution_count": 36,
     "metadata": {},
     "output_type": "execute_result"
    }
   ],
   "source": [
    "len(df_clean)"
   ]
  },
  {
   "cell_type": "code",
   "execution_count": 37,
   "metadata": {},
   "outputs": [],
   "source": [
    "# Drop Rows with the same text (keeping the first instance)\n",
    "df_clean = df_clean.drop_duplicates(['news'], ignore_index=True)"
   ]
  },
  {
   "cell_type": "code",
   "execution_count": 38,
   "metadata": {},
   "outputs": [
    {
     "data": {
      "text/plain": [
       "19866"
      ]
     },
     "execution_count": 38,
     "metadata": {},
     "output_type": "execute_result"
    }
   ],
   "source": [
    "len(df_clean)"
   ]
  },
  {
   "cell_type": "code",
   "execution_count": 39,
   "metadata": {},
   "outputs": [],
   "source": [
    "df_clean.dropna(subset = ['news'], how = 'any', inplace = True)"
   ]
  },
  {
   "cell_type": "code",
   "execution_count": 40,
   "metadata": {},
   "outputs": [
    {
     "name": "stdout",
     "output_type": "stream",
     "text": [
      "<class 'pandas.core.frame.DataFrame'>\n",
      "Int64Index: 19865 entries, 0 to 19865\n",
      "Data columns (total 4 columns):\n",
      " #   Column    Non-Null Count  Dtype \n",
      "---  ------    --------------  ----- \n",
      " 0   index     19865 non-null  int64 \n",
      " 1   headline  19865 non-null  object\n",
      " 2   news      19865 non-null  object\n",
      " 3   label     19865 non-null  int64 \n",
      "dtypes: int64(2), object(2)\n",
      "memory usage: 776.0+ KB\n"
     ]
    }
   ],
   "source": [
    "df_clean.info()"
   ]
  },
  {
   "cell_type": "code",
   "execution_count": 41,
   "metadata": {},
   "outputs": [
    {
     "data": {
      "text/plain": [
       "338"
      ]
     },
     "execution_count": 41,
     "metadata": {},
     "output_type": "execute_result"
    }
   ],
   "source": [
    "len(df) - len(df_clean)"
   ]
  },
  {
   "cell_type": "code",
   "execution_count": 42,
   "metadata": {},
   "outputs": [
    {
     "data": {
      "text/html": [
       "<div>\n",
       "<style scoped>\n",
       "    .dataframe tbody tr th:only-of-type {\n",
       "        vertical-align: middle;\n",
       "    }\n",
       "\n",
       "    .dataframe tbody tr th {\n",
       "        vertical-align: top;\n",
       "    }\n",
       "\n",
       "    .dataframe thead th {\n",
       "        text-align: right;\n",
       "    }\n",
       "</style>\n",
       "<table border=\"1\" class=\"dataframe\">\n",
       "  <thead>\n",
       "    <tr style=\"text-align: right;\">\n",
       "      <th></th>\n",
       "      <th>index</th>\n",
       "      <th>headline</th>\n",
       "      <th>news</th>\n",
       "      <th>label</th>\n",
       "    </tr>\n",
       "  </thead>\n",
       "  <tbody>\n",
       "    <tr>\n",
       "      <th>0</th>\n",
       "      <td>0</td>\n",
       "      <td>Ethics Questions Dogged Agriculture Nominee as...</td>\n",
       "      <td>WASHINGTON  —   In Sonny Perdue’s telling, Geo...</td>\n",
       "      <td>0</td>\n",
       "    </tr>\n",
       "    <tr>\n",
       "      <th>1</th>\n",
       "      <td>1</td>\n",
       "      <td>U.S. Must Dig Deep to Stop Argentina’s Lionel ...</td>\n",
       "      <td>HOUSTON  —   Venezuela had a plan. It was a ta...</td>\n",
       "      <td>0</td>\n",
       "    </tr>\n",
       "    <tr>\n",
       "      <th>2</th>\n",
       "      <td>2</td>\n",
       "      <td>Cotton to House: ’Do Not Walk the Plank and Vo...</td>\n",
       "      <td>Sunday on ABC’s “This Week,” while discussing ...</td>\n",
       "      <td>0</td>\n",
       "    </tr>\n",
       "    <tr>\n",
       "      <th>3</th>\n",
       "      <td>3</td>\n",
       "      <td>Paul LePage, Besieged Maine Governor, Sends Co...</td>\n",
       "      <td>AUGUSTA, Me.  —   The beleaguered Republican g...</td>\n",
       "      <td>0</td>\n",
       "    </tr>\n",
       "    <tr>\n",
       "      <th>4</th>\n",
       "      <td>4</td>\n",
       "      <td>A Digital 9/11 If Trump Wins</td>\n",
       "      <td>Finian Cunningham has written extensively on...</td>\n",
       "      <td>1</td>\n",
       "    </tr>\n",
       "  </tbody>\n",
       "</table>\n",
       "</div>"
      ],
      "text/plain": [
       "   index                                           headline  \\\n",
       "0      0  Ethics Questions Dogged Agriculture Nominee as...   \n",
       "1      1  U.S. Must Dig Deep to Stop Argentina’s Lionel ...   \n",
       "2      2  Cotton to House: ’Do Not Walk the Plank and Vo...   \n",
       "3      3  Paul LePage, Besieged Maine Governor, Sends Co...   \n",
       "4      4                       A Digital 9/11 If Trump Wins   \n",
       "\n",
       "                                                news  label  \n",
       "0  WASHINGTON  —   In Sonny Perdue’s telling, Geo...      0  \n",
       "1  HOUSTON  —   Venezuela had a plan. It was a ta...      0  \n",
       "2  Sunday on ABC’s “This Week,” while discussing ...      0  \n",
       "3  AUGUSTA, Me.  —   The beleaguered Republican g...      0  \n",
       "4    Finian Cunningham has written extensively on...      1  "
      ]
     },
     "execution_count": 42,
     "metadata": {},
     "output_type": "execute_result"
    }
   ],
   "source": [
    "df_clean.head()"
   ]
  },
  {
   "cell_type": "markdown",
   "metadata": {},
   "source": [
    "# Explore the dataset"
   ]
  },
  {
   "cell_type": "code",
   "execution_count": 43,
   "metadata": {},
   "outputs": [],
   "source": [
    "def show_hist_for_col(df, column, headline):\n",
    "    \"\"\"\n",
    "    Display a histogram for a column in a dataframe, splitting the data by label.\n",
    "    \"\"\"\n",
    "    plt.figure(figsize=(16,8))\n",
    "    df[df.label == 0][column].hist(label='True')\n",
    "    df[df.label == 1][column].hist(alpha=0.4, label='Fake')\n",
    "    plt.title(headline)\n",
    "    plt.legend()\n",
    "    plt.show()"
   ]
  },
  {
   "cell_type": "code",
   "execution_count": 44,
   "metadata": {},
   "outputs": [
    {
     "data": {
      "image/png": "[encoded data removed]",
      "text/plain": [
       "<Figure size 1152x576 with 1 Axes>"
      ]
     },
     "metadata": {
      "needs_background": "light"
     },
     "output_type": "display_data"
    }
   ],
   "source": [
    "plt.figure(figsize=(16,8))\n",
    "df_clean.label.hist()\n",
    "plt.title('Fake or True News')\n",
    "plt.show()"
   ]
  },
  {
   "cell_type": "markdown",
   "metadata": {},
   "source": [
    "After cleaning the data it has become more imbalanced, but it is not significant so hopefully it will not have a major impact on models."
   ]
  },
  {
   "cell_type": "code",
   "execution_count": 45,
   "metadata": {},
   "outputs": [],
   "source": [
    "# Length of Titles"
   ]
  },
  {
   "cell_type": "code",
   "execution_count": 46,
   "metadata": {},
   "outputs": [],
   "source": [
    "df_clean['headline_len'] = df_clean.headline.apply(len)"
   ]
  },
  {
   "cell_type": "code",
   "execution_count": 47,
   "metadata": {},
   "outputs": [
    {
     "data": {
      "image/png": "[encoded data removed]",
      "text/plain": [
       "<Figure size 1152x576 with 1 Axes>"
      ]
     },
     "metadata": {
      "needs_background": "light"
     },
     "output_type": "display_data"
    }
   ],
   "source": [
    "show_hist_for_col(df_clean, 'headline_len', 'Number of Characters in Title')"
   ]
  },
  {
   "cell_type": "code",
   "execution_count": 48,
   "metadata": {},
   "outputs": [
    {
     "data": {
      "text/plain": [
       "count    10387.000000\n",
       "mean        79.594974\n",
       "std         15.568225\n",
       "min         22.000000\n",
       "25%         70.000000\n",
       "50%         81.000000\n",
       "75%         89.000000\n",
       "max        175.000000\n",
       "Name: headline_len, dtype: float64"
      ]
     },
     "execution_count": 48,
     "metadata": {},
     "output_type": "execute_result"
    }
   ],
   "source": [
    "df_clean[df_clean.label == 0].headline_len.describe()"
   ]
  },
  {
   "cell_type": "code",
   "execution_count": 49,
   "metadata": {},
   "outputs": [
    {
     "data": {
      "text/plain": [
       "count    9478.000000\n",
       "mean       68.609200\n",
       "std        27.971262\n",
       "min         3.000000\n",
       "25%        50.000000\n",
       "50%        67.000000\n",
       "75%        83.000000\n",
       "max       456.000000\n",
       "Name: headline_len, dtype: float64"
      ]
     },
     "execution_count": 49,
     "metadata": {},
     "output_type": "execute_result"
    }
   ],
   "source": [
    "df_clean[df_clean.label == 1].headline_len.describe()"
   ]
  },
  {
   "cell_type": "markdown",
   "metadata": {},
   "source": [
    "Fake news stories have a wider range in the length of headline than True"
   ]
  },
  {
   "cell_type": "code",
   "execution_count": 50,
   "metadata": {},
   "outputs": [
    {
     "data": {
      "image/png": "[encoded data removed]",
      "text/plain": [
       "<Figure size 1152x576 with 1 Axes>"
      ]
     },
     "metadata": {
      "needs_background": "light"
     },
     "output_type": "display_data"
    }
   ],
   "source": [
    "# length of news text\n",
    "df_clean['text_len'] = df_clean.news.apply(len)\n",
    "show_hist_for_col(df_clean, 'text_len', 'Length of Text for News')"
   ]
  },
  {
   "cell_type": "code",
   "execution_count": 51,
   "metadata": {},
   "outputs": [
    {
     "data": {
      "text/html": [
       "<div>\n",
       "<style scoped>\n",
       "    .dataframe tbody tr th:only-of-type {\n",
       "        vertical-align: middle;\n",
       "    }\n",
       "\n",
       "    .dataframe tbody tr th {\n",
       "        vertical-align: top;\n",
       "    }\n",
       "\n",
       "    .dataframe thead th {\n",
       "        text-align: right;\n",
       "    }\n",
       "</style>\n",
       "<table border=\"1\" class=\"dataframe\">\n",
       "  <thead>\n",
       "    <tr style=\"text-align: right;\">\n",
       "      <th></th>\n",
       "      <th>index</th>\n",
       "      <th>headline</th>\n",
       "      <th>news</th>\n",
       "      <th>label</th>\n",
       "      <th>headline_len</th>\n",
       "      <th>text_len</th>\n",
       "    </tr>\n",
       "  </thead>\n",
       "  <tbody>\n",
       "    <tr>\n",
       "      <th>0</th>\n",
       "      <td>0</td>\n",
       "      <td>Ethics Questions Dogged Agriculture Nominee as...</td>\n",
       "      <td>WASHINGTON  —   In Sonny Perdue’s telling, Geo...</td>\n",
       "      <td>0</td>\n",
       "      <td>84</td>\n",
       "      <td>7936</td>\n",
       "    </tr>\n",
       "    <tr>\n",
       "      <th>1</th>\n",
       "      <td>1</td>\n",
       "      <td>U.S. Must Dig Deep to Stop Argentina’s Lionel ...</td>\n",
       "      <td>HOUSTON  —   Venezuela had a plan. It was a ta...</td>\n",
       "      <td>0</td>\n",
       "      <td>72</td>\n",
       "      <td>6112</td>\n",
       "    </tr>\n",
       "    <tr>\n",
       "      <th>2</th>\n",
       "      <td>2</td>\n",
       "      <td>Cotton to House: ’Do Not Walk the Plank and Vo...</td>\n",
       "      <td>Sunday on ABC’s “This Week,” while discussing ...</td>\n",
       "      <td>0</td>\n",
       "      <td>100</td>\n",
       "      <td>425</td>\n",
       "    </tr>\n",
       "    <tr>\n",
       "      <th>3</th>\n",
       "      <td>3</td>\n",
       "      <td>Paul LePage, Besieged Maine Governor, Sends Co...</td>\n",
       "      <td>AUGUSTA, Me.  —   The beleaguered Republican g...</td>\n",
       "      <td>0</td>\n",
       "      <td>100</td>\n",
       "      <td>6516</td>\n",
       "    </tr>\n",
       "    <tr>\n",
       "      <th>4</th>\n",
       "      <td>4</td>\n",
       "      <td>A Digital 9/11 If Trump Wins</td>\n",
       "      <td>Finian Cunningham has written extensively on...</td>\n",
       "      <td>1</td>\n",
       "      <td>28</td>\n",
       "      <td>9164</td>\n",
       "    </tr>\n",
       "    <tr>\n",
       "      <th>5</th>\n",
       "      <td>5</td>\n",
       "      <td>Whatever the Outcome on November 8th the US Wi...</td>\n",
       "      <td>Taming the corporate media beast Whatever the ...</td>\n",
       "      <td>1</td>\n",
       "      <td>106</td>\n",
       "      <td>15285</td>\n",
       "    </tr>\n",
       "    <tr>\n",
       "      <th>6</th>\n",
       "      <td>6</td>\n",
       "      <td>Rapid Evolution Saved This Fish From Pollution...</td>\n",
       "      <td>The State of New Jersey says you can’t eat the...</td>\n",
       "      <td>0</td>\n",
       "      <td>79</td>\n",
       "      <td>4159</td>\n",
       "    </tr>\n",
       "    <tr>\n",
       "      <th>7</th>\n",
       "      <td>7</td>\n",
       "      <td>Alabama Prison Officials Retaliate Against Pri...</td>\n",
       "      <td>Advocates say prison officials at the Kilby Co...</td>\n",
       "      <td>1</td>\n",
       "      <td>88</td>\n",
       "      <td>6311</td>\n",
       "    </tr>\n",
       "    <tr>\n",
       "      <th>8</th>\n",
       "      <td>9</td>\n",
       "      <td>Can We Live in a Constant State of Love?</td>\n",
       "      <td>Leave a reply \\nToni Emerson – When we fall in...</td>\n",
       "      <td>1</td>\n",
       "      <td>40</td>\n",
       "      <td>6386</td>\n",
       "    </tr>\n",
       "    <tr>\n",
       "      <th>9</th>\n",
       "      <td>10</td>\n",
       "      <td>Is Hillary a Closet Drunk… New WikiLeak Email ...</td>\n",
       "      <td>BREAKING: Clinton Fixer Reveals Sick Smear Hil...</td>\n",
       "      <td>1</td>\n",
       "      <td>93</td>\n",
       "      <td>1664</td>\n",
       "    </tr>\n",
       "  </tbody>\n",
       "</table>\n",
       "</div>"
      ],
      "text/plain": [
       "   index                                           headline  \\\n",
       "0      0  Ethics Questions Dogged Agriculture Nominee as...   \n",
       "1      1  U.S. Must Dig Deep to Stop Argentina’s Lionel ...   \n",
       "2      2  Cotton to House: ’Do Not Walk the Plank and Vo...   \n",
       "3      3  Paul LePage, Besieged Maine Governor, Sends Co...   \n",
       "4      4                       A Digital 9/11 If Trump Wins   \n",
       "5      5  Whatever the Outcome on November 8th the US Wi...   \n",
       "6      6  Rapid Evolution Saved This Fish From Pollution...   \n",
       "7      7  Alabama Prison Officials Retaliate Against Pri...   \n",
       "8      9           Can We Live in a Constant State of Love?   \n",
       "9     10  Is Hillary a Closet Drunk… New WikiLeak Email ...   \n",
       "\n",
       "                                                news  label  headline_len  \\\n",
       "0  WASHINGTON  —   In Sonny Perdue’s telling, Geo...      0            84   \n",
       "1  HOUSTON  —   Venezuela had a plan. It was a ta...      0            72   \n",
       "2  Sunday on ABC’s “This Week,” while discussing ...      0           100   \n",
       "3  AUGUSTA, Me.  —   The beleaguered Republican g...      0           100   \n",
       "4    Finian Cunningham has written extensively on...      1            28   \n",
       "5  Taming the corporate media beast Whatever the ...      1           106   \n",
       "6  The State of New Jersey says you can’t eat the...      0            79   \n",
       "7  Advocates say prison officials at the Kilby Co...      1            88   \n",
       "8  Leave a reply \\nToni Emerson – When we fall in...      1            40   \n",
       "9  BREAKING: Clinton Fixer Reveals Sick Smear Hil...      1            93   \n",
       "\n",
       "   text_len  \n",
       "0      7936  \n",
       "1      6112  \n",
       "2       425  \n",
       "3      6516  \n",
       "4      9164  \n",
       "5     15285  \n",
       "6      4159  \n",
       "7      6311  \n",
       "8      6386  \n",
       "9      1664  "
      ]
     },
     "execution_count": 51,
     "metadata": {},
     "output_type": "execute_result"
    }
   ],
   "source": [
    "df_clean.head(10)"
   ]
  },
  {
   "cell_type": "code",
   "execution_count": 52,
   "metadata": {},
   "outputs": [],
   "source": [
    "## Text cleaning\n",
    "\n",
    "class TextCleaningUtils:\n",
    "    '''\n",
    "        This class contains implementations of various text cleaning operations (Static Methods)\n",
    "    '''\n",
    "    @staticmethod\n",
    "    def expand_abbreviations(text):\n",
    "        text = re.sub(r\"he's\", \"he is\", text)\n",
    "        text = re.sub(r\"there's\", \"there is\", text)\n",
    "        text = re.sub(r\"We're\", \"We are\", text)\n",
    "        text = re.sub(r\"That's\", \"That is\", text)\n",
    "        text = re.sub(r\"won't\", \"will not\", text)\n",
    "        text = re.sub(r\"they're\", \"they are\", text)\n",
    "        text = re.sub(r\"Can't\", \"Cannot\", text)\n",
    "        text = re.sub(r\"wasn't\", \"was not\", text)\n",
    "        text = re.sub(r\"don\\x89Ûªt\", \"do not\", text)\n",
    "        text= re.sub(r\"aren't\", \"are not\", text)\n",
    "        text = re.sub(r\"isn't\", \"is not\", text)\n",
    "        text = re.sub(r\"What's\", \"What is\", text)\n",
    "        text = re.sub(r\"haven't\", \"have not\", text)\n",
    "        text = re.sub(r\"hasn't\", \"has not\", text)\n",
    "        text = re.sub(r\"There's\", \"There is\", text)\n",
    "        text = re.sub(r\"He's\", \"He is\", text)\n",
    "        text = re.sub(r\"It's\", \"It is\", text)\n",
    "        text = re.sub(r\"You're\", \"You are\", text)\n",
    "        text = re.sub(r\"I'M\", \"I am\", text)\n",
    "        text = re.sub(r\"shouldn't\", \"should not\", text)\n",
    "        text = re.sub(r\"wouldn't\", \"would not\", text)\n",
    "        text = re.sub(r\"couldn't\", \"could not\", text)\n",
    "        text = re.sub(r\"i'm\", \"I am\", text)\n",
    "        text = re.sub(r\"I\\x89Ûªm\", \"I am\", text)\n",
    "        text = re.sub(r\"I'm\", \"I am\", text)\n",
    "        text = re.sub(r\"Isn't\", \"is not\", text)\n",
    "        text = re.sub(r\"Here's\", \"Here is\", text)\n",
    "        text = re.sub(r\"you've\", \"you have\", text)\n",
    "        text = re.sub(r\"you\\x89Ûªve\", \"you have\", text)\n",
    "        text = re.sub(r\"we're\", \"we are\", text)\n",
    "        text = re.sub(r\"what's\", \"what is\", text)\n",
    "        text = re.sub(r\"couldn't\", \"could not\", text)\n",
    "        text = re.sub(r\"we've\", \"we have\", text)\n",
    "        text = re.sub(r\"it\\x89Ûªs\", \"it is\", text)\n",
    "        text = re.sub(r\"doesn\\x89Ûªt\", \"does not\", text)\n",
    "        text = re.sub(r\"It\\x89Ûªs\", \"It is\", text)\n",
    "        text = re.sub(r\"Here\\x89Ûªs\", \"Here is\", text)\n",
    "        text = re.sub(r\"who's\", \"who is\", text)\n",
    "        text = re.sub(r\"I\\x89Ûªve\", \"I have\", text)\n",
    "        text = re.sub(r\"y'all\", \"you all\", text)\n",
    "        text = re.sub(r\"can\\x89Ûªt\", \"cannot\", text)\n",
    "        text = re.sub(r\"would've\", \"would have\", text)\n",
    "        text = re.sub(r\"it'll\", \"it will\", text)\n",
    "        text = re.sub(r\"we'll\", \"we will\", text)\n",
    "        text = re.sub(r\"wouldn\\x89Ûªt\", \"would not\", text)\n",
    "        text = re.sub(r\"We've\", \"We have\", text)\n",
    "        text = re.sub(r\"he'll\", \"he will\", text)\n",
    "        text = re.sub(r\"Y'all\", \"You all\", text)\n",
    "        text = re.sub(r\"Weren't\", \"Were not\", text)\n",
    "        text = re.sub(r\"Didn't\", \"Did not\", text)\n",
    "        text = re.sub(r\"they'll\", \"they will\", text)\n",
    "        text = re.sub(r\"DON'T\", \"DO NOT\", text)\n",
    "        text = re.sub(r\"That\\x89Ûªs\", \"That is\", text)\n",
    "        text = re.sub(r\"they've\", \"they have\", text)\n",
    "        text = re.sub(r\"they'd\", \"they would\", text)\n",
    "        text = re.sub(r\"i'd\", \"I would\", text)\n",
    "        text = re.sub(r\"should've\", \"should have\", text)\n",
    "        text = re.sub(r\"You\\x89Ûªre\", \"You are\", text)\n",
    "        text = re.sub(r\"where's\", \"where is\", text)\n",
    "        text = re.sub(r\"Don\\x89Ûªt\", \"Do not\", text)\n",
    "        text = re.sub(r\"i'll\", \"I will\", text)\n",
    "        text = re.sub(r\"weren't\", \"were not\", text)\n",
    "        text = re.sub(r\"They're\", \"They are\", text)\n",
    "        text = re.sub(r\"Can\\x89Ûªt\", \"Cannot\", text)\n",
    "        text = re.sub(r\"you\\x89Ûªll\", \"you will\", text)\n",
    "        text = re.sub(r\"I\\x89Ûªd\", \"I would\", text)\n",
    "        text = re.sub(r\"let's\", \"let us\", text)\n",
    "        text = re.sub(r\"it's\", \"it is\", text)\n",
    "        text = re.sub(r\"can't\", \"cannot\", text)\n",
    "        text = re.sub(r\"don't\", \"do not\", text)\n",
    "        text = re.sub(r\"you're\", \"you are\", text)\n",
    "        text = re.sub(r\"i've\", \"I have\", text)\n",
    "        text = re.sub(r\"that's\", \"that is\", text)\n",
    "        text = re.sub(r\"i'll\", \"I will\", text)\n",
    "        text = re.sub(r\"doesn't\", \"does not\",text)\n",
    "        text = re.sub(r\"i'd\", \"I would\", text)\n",
    "        text = re.sub(r\"didn't\", \"did not\", text)\n",
    "        text = re.sub(r\"ain't\", \"am not\", text)\n",
    "        text = re.sub(r\"you'll\", \"you will\", text)\n",
    "        text = re.sub(r\"I've\", \"I have\", text)\n",
    "        text = re.sub(r\"Don't\", \"do not\", text)\n",
    "        text = re.sub(r\"I'll\", \"I will\", text)\n",
    "        text = re.sub(r\"I'LL\", \"I will\", text)\n",
    "        text = re.sub(r\"I'd\", \"I would\", text)\n",
    "        text = re.sub(r\"Let's\", \"Let us\", text)\n",
    "        text = re.sub(r\"you'd\", \"You would\", text)\n",
    "        text = re.sub(r\"It's\", \"It is\", text)\n",
    "        text = re.sub(r\"Ain't\", \"am not\", text)\n",
    "        text = re.sub(r\"Haven't\", \"Have not\", text)\n",
    "        text = re.sub(r\"Hadn't\", \"Had not\", text)\n",
    "        text = re.sub(r\"Could've\", \"Could have\", text)\n",
    "        text = re.sub(r\"youve\", \"you have\", text)  \n",
    "        text = re.sub(r\"donå«t\", \"do not\", text)  \n",
    "\n",
    "        return text\n",
    "\n",
    "    cleaning_regex_map = {\n",
    "        'web_links': r'(?i)(?:(?:http(?:s)?:)|(?:www\\.))\\S+',\n",
    "        'email': r'[\\w.]+@\\w+\\.[a-z]{3}',\n",
    "        'twitter_handles': r'[#@]\\S+',\n",
    "        'redundant_newlines': r'[\\r|\\n|\\r\\n]+',\n",
    "        'redundant_spaces': r'\\s\\s+',\n",
    "        'punctuations': r'[\\.,!?;:]+',\n",
    "#         'special_chars': r'[^a-zA-Z0-9\\s\\.,!?;:]+',\n",
    "        'special_chars': r'[^a-zA-Z\\s\\.,!?;:]+'  ## removing nums\n",
    "        \n",
    "    }\n",
    "    \n",
    "    @staticmethod\n",
    "    def clean_text_from_regex(text, text_clean_regex):\n",
    "        '''\n",
    "            Follow a particular cleaning expression, provided\n",
    "            as an input by an user to clean the text.\n",
    "        '''\n",
    "\n",
    "        text = text_clean_regex.sub(' ', text).strip()\n",
    "        return text\n",
    "    \n",
    "    @staticmethod\n",
    "    def strip_html(text):\n",
    "        soup = BeautifulSoup(text, \"html.parser\")\n",
    "        return soup.get_text()\n",
    "    \n",
    "    @staticmethod\n",
    "    def remove_web_links(text):\n",
    "        '''\n",
    "            Removes any web link that follows a particular default expression,\n",
    "            present in the text.\n",
    "        '''\n",
    "\n",
    "        web_links_regex = re.compile(TextCleaningUtils.cleaning_regex_map['web_links'])\n",
    "        text = TextCleaningUtils.clean_text_from_regex(text, web_links_regex)\n",
    "        return text\n",
    "    \n",
    "    @staticmethod\n",
    "    def remove_email_addresses(text):\n",
    "        '''\n",
    "            Removes email addresses present in the text.\n",
    "        '''\n",
    "\n",
    "        email_regex = re.compile(TextCleaningUtils.cleaning_regex_map['email'])\n",
    "        text = TextCleaningUtils.clean_text_from_regex(text, email_regex)\n",
    "        return text\n",
    "    \n",
    "    @staticmethod\n",
    "    def remove_twitter_handles(text):\n",
    "        '''\n",
    "            Removes any twitter handle present in the text.\n",
    "        '''\n",
    "\n",
    "        twitter_handles_regex = re.compile(TextCleaningUtils.cleaning_regex_map['twitter_handles'])\n",
    "        text = TextCleaningUtils.clean_text_from_regex(text, twitter_handles_regex)\n",
    "        return text\n",
    "    \n",
    "    @staticmethod\n",
    "    def remove_emojis(text):\n",
    "        emoji_clean= re.compile(\"[\"\n",
    "                           u\"\\U0001F600-\\U0001F64F\"  # emoticons\n",
    "                           u\"\\U0001F300-\\U0001F5FF\"  # symbols & pictographs\n",
    "                           u\"\\U0001F680-\\U0001F6FF\"  # transport & map symbols\n",
    "                           u\"\\U0001F1E0-\\U0001F1FF\"  # flags (iOS)\n",
    "                           u\"\\U00002702-\\U000027B0\"\n",
    "                           u\"\\U000024C2-\\U0001F251\"\n",
    "                           \"]+\", flags=re.UNICODE)\n",
    "        text=emoji_clean.sub(r'',text)\n",
    "        url_clean= re.compile(r\"https://\\S+|www\\.\\S+\")\n",
    "        text=url_clean.sub(r'',text)\n",
    "        return text\n",
    "    \n",
    "    @staticmethod\n",
    "    def remove_redundant_newlines(text):\n",
    "        '''\n",
    "            Removes any redundant new line present in the text.\n",
    "        '''\n",
    "\n",
    "        redundant_newlines_regex = re.compile(\n",
    "            TextCleaningUtils.cleaning_regex_map['redundant_newlines'])\n",
    "        text = TextCleaningUtils.clean_text_from_regex(text, redundant_newlines_regex)\n",
    "        return text\n",
    "    \n",
    "    @staticmethod\n",
    "    def remove_redundant_spaces(text):\n",
    "        '''\n",
    "            Remove any redundant space provided as default,\n",
    "            that is present in the text.\n",
    "        '''\n",
    "\n",
    "        redundant_spaces_regex = re.compile(\n",
    "            TextCleaningUtils.cleaning_regex_map['redundant_spaces'])\n",
    "        text = TextCleaningUtils.clean_text_from_regex(text, redundant_spaces_regex)\n",
    "        return text\n",
    "    \n",
    "    @staticmethod\n",
    "    def remove_punctuations(text):\n",
    "        '''\n",
    "            Removes any punctuation that follows the default expression, in the text.\n",
    "        '''\n",
    "\n",
    "        remove_punctuations_regex = re.compile(TextCleaningUtils.cleaning_regex_map['punctuations'])\n",
    "        text = TextCleaningUtils.clean_text_from_regex(text, remove_punctuations_regex)\n",
    "        return text\n",
    "\n",
    "    @staticmethod\n",
    "    def remove_special_chars(text):\n",
    "        '''\n",
    "            Replace any special character provided as default,\n",
    "            which is present in the text with space\n",
    "        '''\n",
    "\n",
    "        special_chars_regex = re.compile(TextCleaningUtils.cleaning_regex_map['special_chars'])\n",
    "        text = TextCleaningUtils.clean_text_from_regex(text, special_chars_regex)\n",
    "        return text\n",
    "\n",
    "    @staticmethod\n",
    "    def remove_exaggerated_words(text):\n",
    "        '''\n",
    "            Removes any exaggerated word present in the text.\n",
    "        '''\n",
    "\n",
    "        return ''.join(''.join(s)[:2] for _, s in itertools.groupby(text))\n",
    "\n",
    "    @staticmethod\n",
    "    def replace_multiple_chars(text):\n",
    "        '''\n",
    "            Replaces multiple characters present in the text.\n",
    "        '''\n",
    "\n",
    "        char_list = ['.', '?', '!', '#', '$', '/', '@', '*', '(', ')', '+']\n",
    "        final_text = ''\n",
    "        for i in char_list:\n",
    "            if i in text:\n",
    "                pattern = \"\\\\\" + i + '{2,}'\n",
    "                repl_str = i.replace(\"\\\\\", \"\")\n",
    "                text = re.sub(pattern, repl_str, text)\n",
    "                final_text = ' '.join(text.split())\n",
    "        return final_text\n",
    "\n",
    "    @staticmethod\n",
    "    def replace_sign(text):\n",
    "        '''\n",
    "            Replaces any sign with words like & with 'and', in the text.\n",
    "        '''\n",
    "        sign_list = {'&': ' and ', '/': ' or ', '\\xa0': ' '}\n",
    "        final_text = ''\n",
    "        for i in sign_list:\n",
    "            if i in text:\n",
    "                text = re.sub(i, sign_list[i], text)\n",
    "                final_text = ' '.join(text.split())\n",
    "        return final_text\n",
    "\n",
    "    @staticmethod\n",
    "    def remove_accented_char(text):\n",
    "        text = unicodedata.normalize('NFD', text) \\\n",
    "            .encode('ascii', 'ignore') \\\n",
    "            .decode(\"utf-8\")\n",
    "        return str(text)\n",
    "\n",
    "    @staticmethod\n",
    "    def replace_characters(text, replace_map):\n",
    "        '''\n",
    "            Replaces any character custom provided by an user.\n",
    "        '''\n",
    "\n",
    "        for char, replace_val in replace_map.items():\n",
    "            text = text.replace(char, replace_val)\n",
    "        return text\n",
    "    \n",
    "def clean_data(df,col_to_clean):\n",
    "    df[col_to_clean] = df[col_to_clean].apply(TextCleaningUtils.remove_web_links)\n",
    "    df[col_to_clean] = df[col_to_clean].apply(TextCleaningUtils.remove_email_addresses)\n",
    "    df[col_to_clean] = df[col_to_clean].apply(TextCleaningUtils.remove_twitter_handles)\n",
    "    df[col_to_clean] = df[col_to_clean].apply(TextCleaningUtils.expand_abbreviations)\n",
    "    df[col_to_clean] = df[col_to_clean].apply(TextCleaningUtils.remove_emojis)\n",
    "    df[col_to_clean] = df[col_to_clean].apply(TextCleaningUtils.remove_special_chars)\n",
    "    df[col_to_clean] = df[col_to_clean].apply(TextCleaningUtils.remove_redundant_spaces)\n",
    "    df[col_to_clean] = df[col_to_clean].apply(TextCleaningUtils.remove_punctuations)\n",
    "    df[col_to_clean] = df[col_to_clean].apply(TextCleaningUtils.remove_exaggerated_words)\n",
    "    df[col_to_clean] = df[col_to_clean].apply(TextCleaningUtils.remove_redundant_newlines)\n",
    "    df[col_to_clean] = df[col_to_clean].astype(str)\n",
    "    df[col_to_clean] = df[col_to_clean].str.lower()\n",
    "    \n",
    "    return df"
   ]
  },
  {
   "cell_type": "code",
   "execution_count": 53,
   "metadata": {},
   "outputs": [],
   "source": [
    "df_clean = clean_data(df_clean, 'news')"
   ]
  },
  {
   "cell_type": "code",
   "execution_count": 54,
   "metadata": {},
   "outputs": [],
   "source": [
    "from bs4 import BeautifulSoup\n",
    "import nltk\n",
    "from nltk.corpus import stopwords\n",
    "from nltk.probability import FreqDist"
   ]
  },
  {
   "cell_type": "code",
   "execution_count": 55,
   "metadata": {},
   "outputs": [
    {
     "name": "stderr",
     "output_type": "stream",
     "text": [
      "[nltk_data] Downloading package stopwords to\n",
      "[nltk_data]     C:\\Users\\Nikhil\\AppData\\Roaming\\nltk_data...\n",
      "[nltk_data]   Package stopwords is already up-to-date!\n"
     ]
    }
   ],
   "source": [
    "nltk.download('stopwords')\n",
    "\n",
    "sw = stopwords.words('english')"
   ]
  },
  {
   "cell_type": "code",
   "execution_count": 56,
   "metadata": {},
   "outputs": [
    {
     "name": "stderr",
     "output_type": "stream",
     "text": [
      "100%|███████████████████████████████████████████████████████████████████████████| 19865/19865 [00:56<00:00, 350.74it/s]\n"
     ]
    }
   ],
   "source": [
    "from tqdm import tqdm\n",
    "preprocessed_reviews = []\n",
    "# tqdm is for printing the status bar\n",
    "for sentance in tqdm(df_clean['news'].values):\n",
    "    sentance = re.sub(r\"http\\S+\", \"\", sentance)\n",
    "    sentance = BeautifulSoup(sentance, 'lxml').get_text()\n",
    " \n",
    "    sentance = re.sub(\"\\S*\\d\\S*\", \"\", sentance).strip()\n",
    "    sentance = re.sub('[^A-Za-z]+', ' ', sentance)\n",
    "    # https://gist.github.com/sebleier/554280\n",
    "    sentance = ' '.join(e.lower() for e in sentance.split() if e.lower() not in sw)\n",
    "    preprocessed_reviews.append(sentance.strip())"
   ]
  },
  {
   "cell_type": "code",
   "execution_count": 57,
   "metadata": {},
   "outputs": [],
   "source": [
    "stop_words = stopwords.words(\"english\")\n",
    "\n",
    "flat_list_news_summaries_no_stop = [word for word in preprocessed_reviews if word not in stop_words]"
   ]
  },
  {
   "cell_type": "code",
   "execution_count": 61,
   "metadata": {},
   "outputs": [],
   "source": [
    "from wordcloud import WordCloud, STOPWORDS"
   ]
  },
  {
   "cell_type": "code",
   "execution_count": 63,
   "metadata": {},
   "outputs": [],
   "source": [
    "real_words = ''\n",
    "fake_words = ''\n",
    "stopwords = set(STOPWORDS) \n",
    "  \n",
    "# iterate through the csv file \n",
    "for val in df_clean[df_clean['label']==1].news: \n",
    "  \n",
    "    # split the value \n",
    "    tokens = val.split() \n",
    "      \n",
    "    # Converts each token into lowercase \n",
    "    for i in range(len(tokens)): \n",
    "        tokens[i] = tokens[i].lower() \n",
    "      \n",
    "    real_words += \" \".join(tokens)+\" \"\n",
    "\n",
    "for val in df_clean[df_clean['label']==0].news: \n",
    "      \n",
    "    # split the value \n",
    "    tokens = val.split() \n",
    "      \n",
    "    # Converts each token into lowercase \n",
    "    for i in range(len(tokens)): \n",
    "        tokens[i] = tokens[i].lower() \n",
    "      \n",
    "    fake_words += \" \".join(tokens)+\" \""
   ]
  },
  {
   "cell_type": "code",
   "execution_count": 64,
   "metadata": {},
   "outputs": [
    {
     "data": {
      "image/png": "[encoded data removed]",
      "text/plain": [
       "<Figure size 576x576 with 1 Axes>"
      ]
     },
     "metadata": {
      "needs_background": "light"
     },
     "output_type": "display_data"
    }
   ],
   "source": [
    "wordcloud = WordCloud(width = 800, height = 800, \n",
    "                background_color ='white', \n",
    "                stopwords = stopwords, \n",
    "                min_font_size = 10).generate(real_words) \n",
    "  \n",
    "# plot the WordCloud image                        \n",
    "plt.figure(figsize = (8, 8), facecolor = None) \n",
    "plt.imshow(wordcloud) \n",
    "plt.axis(\"off\") \n",
    "plt.tight_layout(pad = 0) \n",
    "  \n",
    "plt.show() "
   ]
  },
  {
   "cell_type": "code",
   "execution_count": 65,
   "metadata": {},
   "outputs": [],
   "source": [
    "## TFidf Vectorizer\n",
    "from sklearn.feature_extraction.text import TfidfVectorizer\n",
    "tfidf_v=TfidfVectorizer(max_features=5000,ngram_range=(1,3))\n",
    "X=tfidf_v.fit_transform(preprocessed_reviews).toarray()"
   ]
  },
  {
   "cell_type": "code",
   "execution_count": 66,
   "metadata": {},
   "outputs": [
    {
     "data": {
      "text/plain": [
       "(19865, 5000)"
      ]
     },
     "execution_count": 66,
     "metadata": {},
     "output_type": "execute_result"
    }
   ],
   "source": [
    "X.shape\n"
   ]
  },
  {
   "cell_type": "code",
   "execution_count": 67,
   "metadata": {},
   "outputs": [],
   "source": [
    "y=df_clean['label']\n"
   ]
  },
  {
   "cell_type": "code",
   "execution_count": 68,
   "metadata": {},
   "outputs": [],
   "source": [
    "## Divide the dataset into Train and Test\n",
    "from sklearn.model_selection import train_test_split\n",
    "X_train, X_test, y_train, y_test = train_test_split(X, y, test_size=0.33, random_state=0)"
   ]
  },
  {
   "cell_type": "code",
   "execution_count": 69,
   "metadata": {},
   "outputs": [
    {
     "data": {
      "text/plain": [
       "['aaron',\n",
       " 'abandoned',\n",
       " 'abc',\n",
       " 'abe',\n",
       " 'abedin',\n",
       " 'ability',\n",
       " 'able',\n",
       " 'abortion',\n",
       " 'abroad',\n",
       " 'absence',\n",
       " 'absolute',\n",
       " 'absolutely',\n",
       " 'abu',\n",
       " 'abuse',\n",
       " 'academic',\n",
       " 'academy',\n",
       " 'accept',\n",
       " 'acceptable',\n",
       " 'accepted',\n",
       " 'accepting']"
      ]
     },
     "execution_count": 69,
     "metadata": {},
     "output_type": "execute_result"
    }
   ],
   "source": [
    "tfidf_v.get_feature_names()[:20]\n"
   ]
  },
  {
   "cell_type": "code",
   "execution_count": 70,
   "metadata": {},
   "outputs": [
    {
     "data": {
      "text/plain": [
       "{'analyzer': 'word',\n",
       " 'binary': False,\n",
       " 'decode_error': 'strict',\n",
       " 'dtype': numpy.float64,\n",
       " 'encoding': 'utf-8',\n",
       " 'input': 'content',\n",
       " 'lowercase': True,\n",
       " 'max_df': 1.0,\n",
       " 'max_features': 5000,\n",
       " 'min_df': 1,\n",
       " 'ngram_range': (1, 3),\n",
       " 'norm': 'l2',\n",
       " 'preprocessor': None,\n",
       " 'smooth_idf': True,\n",
       " 'stop_words': None,\n",
       " 'strip_accents': None,\n",
       " 'sublinear_tf': False,\n",
       " 'token_pattern': '(?u)\\\\b\\\\w\\\\w+\\\\b',\n",
       " 'tokenizer': None,\n",
       " 'use_idf': True,\n",
       " 'vocabulary': None}"
      ]
     },
     "execution_count": 70,
     "metadata": {},
     "output_type": "execute_result"
    }
   ],
   "source": [
    "tfidf_v.get_params()\n"
   ]
  },
  {
   "cell_type": "code",
   "execution_count": 71,
   "metadata": {},
   "outputs": [],
   "source": [
    "count_df = pd.DataFrame(X_train, columns=tfidf_v.get_feature_names())"
   ]
  },
  {
   "cell_type": "code",
   "execution_count": 72,
   "metadata": {},
   "outputs": [
    {
     "data": {
      "text/html": [
       "<div>\n",
       "<style scoped>\n",
       "    .dataframe tbody tr th:only-of-type {\n",
       "        vertical-align: middle;\n",
       "    }\n",
       "\n",
       "    .dataframe tbody tr th {\n",
       "        vertical-align: top;\n",
       "    }\n",
       "\n",
       "    .dataframe thead th {\n",
       "        text-align: right;\n",
       "    }\n",
       "</style>\n",
       "<table border=\"1\" class=\"dataframe\">\n",
       "  <thead>\n",
       "    <tr style=\"text-align: right;\">\n",
       "      <th></th>\n",
       "      <th>aaron</th>\n",
       "      <th>abandoned</th>\n",
       "      <th>abc</th>\n",
       "      <th>abe</th>\n",
       "      <th>abedin</th>\n",
       "      <th>ability</th>\n",
       "      <th>able</th>\n",
       "      <th>abortion</th>\n",
       "      <th>abroad</th>\n",
       "      <th>absence</th>\n",
       "      <th>...</th>\n",
       "      <th>young</th>\n",
       "      <th>young people</th>\n",
       "      <th>younger</th>\n",
       "      <th>youth</th>\n",
       "      <th>youtube</th>\n",
       "      <th>zero</th>\n",
       "      <th>zika</th>\n",
       "      <th>zone</th>\n",
       "      <th>zones</th>\n",
       "      <th>zu</th>\n",
       "    </tr>\n",
       "  </thead>\n",
       "  <tbody>\n",
       "    <tr>\n",
       "      <th>0</th>\n",
       "      <td>0.0</td>\n",
       "      <td>0.0</td>\n",
       "      <td>0.0</td>\n",
       "      <td>0.0</td>\n",
       "      <td>0.0</td>\n",
       "      <td>0.000000</td>\n",
       "      <td>0.0</td>\n",
       "      <td>0.0</td>\n",
       "      <td>0.0</td>\n",
       "      <td>0.0</td>\n",
       "      <td>...</td>\n",
       "      <td>0.000000</td>\n",
       "      <td>0.0</td>\n",
       "      <td>0.0</td>\n",
       "      <td>0.0</td>\n",
       "      <td>0.000000</td>\n",
       "      <td>0.0</td>\n",
       "      <td>0.000000</td>\n",
       "      <td>0.0</td>\n",
       "      <td>0.0</td>\n",
       "      <td>0.0</td>\n",
       "    </tr>\n",
       "    <tr>\n",
       "      <th>1</th>\n",
       "      <td>0.0</td>\n",
       "      <td>0.0</td>\n",
       "      <td>0.0</td>\n",
       "      <td>0.0</td>\n",
       "      <td>0.0</td>\n",
       "      <td>0.000000</td>\n",
       "      <td>0.0</td>\n",
       "      <td>0.0</td>\n",
       "      <td>0.0</td>\n",
       "      <td>0.0</td>\n",
       "      <td>...</td>\n",
       "      <td>0.000000</td>\n",
       "      <td>0.0</td>\n",
       "      <td>0.0</td>\n",
       "      <td>0.0</td>\n",
       "      <td>0.033032</td>\n",
       "      <td>0.0</td>\n",
       "      <td>0.000000</td>\n",
       "      <td>0.0</td>\n",
       "      <td>0.0</td>\n",
       "      <td>0.0</td>\n",
       "    </tr>\n",
       "    <tr>\n",
       "      <th>2</th>\n",
       "      <td>0.0</td>\n",
       "      <td>0.0</td>\n",
       "      <td>0.0</td>\n",
       "      <td>0.0</td>\n",
       "      <td>0.0</td>\n",
       "      <td>0.067749</td>\n",
       "      <td>0.0</td>\n",
       "      <td>0.0</td>\n",
       "      <td>0.0</td>\n",
       "      <td>0.0</td>\n",
       "      <td>...</td>\n",
       "      <td>0.019065</td>\n",
       "      <td>0.0</td>\n",
       "      <td>0.0</td>\n",
       "      <td>0.0</td>\n",
       "      <td>0.000000</td>\n",
       "      <td>0.0</td>\n",
       "      <td>0.000000</td>\n",
       "      <td>0.0</td>\n",
       "      <td>0.0</td>\n",
       "      <td>0.0</td>\n",
       "    </tr>\n",
       "    <tr>\n",
       "      <th>3</th>\n",
       "      <td>0.0</td>\n",
       "      <td>0.0</td>\n",
       "      <td>0.0</td>\n",
       "      <td>0.0</td>\n",
       "      <td>0.0</td>\n",
       "      <td>0.000000</td>\n",
       "      <td>0.0</td>\n",
       "      <td>0.0</td>\n",
       "      <td>0.0</td>\n",
       "      <td>0.0</td>\n",
       "      <td>...</td>\n",
       "      <td>0.000000</td>\n",
       "      <td>0.0</td>\n",
       "      <td>0.0</td>\n",
       "      <td>0.0</td>\n",
       "      <td>0.028210</td>\n",
       "      <td>0.0</td>\n",
       "      <td>0.000000</td>\n",
       "      <td>0.0</td>\n",
       "      <td>0.0</td>\n",
       "      <td>0.0</td>\n",
       "    </tr>\n",
       "    <tr>\n",
       "      <th>4</th>\n",
       "      <td>0.0</td>\n",
       "      <td>0.0</td>\n",
       "      <td>0.0</td>\n",
       "      <td>0.0</td>\n",
       "      <td>0.0</td>\n",
       "      <td>0.000000</td>\n",
       "      <td>0.0</td>\n",
       "      <td>0.0</td>\n",
       "      <td>0.0</td>\n",
       "      <td>0.0</td>\n",
       "      <td>...</td>\n",
       "      <td>0.000000</td>\n",
       "      <td>0.0</td>\n",
       "      <td>0.0</td>\n",
       "      <td>0.0</td>\n",
       "      <td>0.000000</td>\n",
       "      <td>0.0</td>\n",
       "      <td>0.038691</td>\n",
       "      <td>0.0</td>\n",
       "      <td>0.0</td>\n",
       "      <td>0.0</td>\n",
       "    </tr>\n",
       "  </tbody>\n",
       "</table>\n",
       "<p>5 rows × 5000 columns</p>\n",
       "</div>"
      ],
      "text/plain": [
       "   aaron  abandoned  abc  abe  abedin   ability  able  abortion  abroad  \\\n",
       "0    0.0        0.0  0.0  0.0     0.0  0.000000   0.0       0.0     0.0   \n",
       "1    0.0        0.0  0.0  0.0     0.0  0.000000   0.0       0.0     0.0   \n",
       "2    0.0        0.0  0.0  0.0     0.0  0.067749   0.0       0.0     0.0   \n",
       "3    0.0        0.0  0.0  0.0     0.0  0.000000   0.0       0.0     0.0   \n",
       "4    0.0        0.0  0.0  0.0     0.0  0.000000   0.0       0.0     0.0   \n",
       "\n",
       "   absence  ...     young  young people  younger  youth   youtube  zero  \\\n",
       "0      0.0  ...  0.000000           0.0      0.0    0.0  0.000000   0.0   \n",
       "1      0.0  ...  0.000000           0.0      0.0    0.0  0.033032   0.0   \n",
       "2      0.0  ...  0.019065           0.0      0.0    0.0  0.000000   0.0   \n",
       "3      0.0  ...  0.000000           0.0      0.0    0.0  0.028210   0.0   \n",
       "4      0.0  ...  0.000000           0.0      0.0    0.0  0.000000   0.0   \n",
       "\n",
       "       zika  zone  zones   zu  \n",
       "0  0.000000   0.0    0.0  0.0  \n",
       "1  0.000000   0.0    0.0  0.0  \n",
       "2  0.000000   0.0    0.0  0.0  \n",
       "3  0.000000   0.0    0.0  0.0  \n",
       "4  0.038691   0.0    0.0  0.0  \n",
       "\n",
       "[5 rows x 5000 columns]"
      ]
     },
     "execution_count": 72,
     "metadata": {},
     "output_type": "execute_result"
    }
   ],
   "source": [
    "count_df.head()\n"
   ]
  },
  {
   "cell_type": "code",
   "execution_count": 73,
   "metadata": {},
   "outputs": [],
   "source": [
    "import matplotlib.pyplot as plt\n"
   ]
  },
  {
   "cell_type": "code",
   "execution_count": 74,
   "metadata": {},
   "outputs": [],
   "source": [
    "def plot_confusion_matrix(cm, classes,\n",
    "                          normalize=False,\n",
    "                          title='Confusion matrix',\n",
    "                          cmap=plt.cm.Blues):\n",
    "    \"\"\"\n",
    "    See full source and example: \n",
    "    http://scikit-learn.org/stable/auto_examples/model_selection/plot_confusion_matrix.html\n",
    "    \n",
    "    This function prints and plots the confusion matrix.\n",
    "    Normalization can be applied by setting `normalize=True`.\n",
    "    \"\"\"\n",
    "    plt.imshow(cm, interpolation='nearest', cmap=cmap)\n",
    "    plt.title(title)\n",
    "    plt.colorbar()\n",
    "    tick_marks = np.arange(len(classes))\n",
    "    plt.xticks(tick_marks, classes, rotation=45)\n",
    "    plt.yticks(tick_marks, classes)\n",
    "\n",
    "    if normalize:\n",
    "        cm = cm.astype('float') / cm.sum(axis=1)[:, np.newaxis]\n",
    "        print(\"Normalized confusion matrix\")\n",
    "    else:\n",
    "        print('Confusion matrix, without normalization')\n",
    "\n",
    "    thresh = cm.max() / 2.\n",
    "    for i, j in itertools.product(range(cm.shape[0]), range(cm.shape[1])):\n",
    "        plt.text(j, i, cm[i, j],\n",
    "                 horizontalalignment=\"center\",\n",
    "                 color=\"white\" if cm[i, j] > thresh else \"black\")\n",
    "\n",
    "    plt.tight_layout()\n",
    "    plt.ylabel('True label')\n",
    "    plt.xlabel('Predicted label')"
   ]
  },
  {
   "cell_type": "markdown",
   "metadata": {},
   "source": [
    "# MultinomialNB "
   ]
  },
  {
   "cell_type": "code",
   "execution_count": 75,
   "metadata": {},
   "outputs": [],
   "source": [
    "from sklearn.naive_bayes import MultinomialNB\n",
    "classifier=MultinomialNB()"
   ]
  },
  {
   "cell_type": "code",
   "execution_count": 76,
   "metadata": {},
   "outputs": [],
   "source": [
    "from sklearn import metrics\n"
   ]
  },
  {
   "cell_type": "code",
   "execution_count": 77,
   "metadata": {},
   "outputs": [
    {
     "name": "stdout",
     "output_type": "stream",
     "text": [
      "accuracy:   0.889\n",
      "Confusion matrix, without normalization\n"
     ]
    },
    {
     "data": {
      "image/png": "[encoded data removed]",
      "text/plain": [
       "<Figure size 432x288 with 2 Axes>"
      ]
     },
     "metadata": {
      "needs_background": "light"
     },
     "output_type": "display_data"
    }
   ],
   "source": [
    "classifier.fit(X_train, y_train)\n",
    "pred = classifier.predict(X_test)\n",
    "score = metrics.accuracy_score(y_test, pred)\n",
    "print(\"accuracy:   %0.3f\" % score)\n",
    "cm = metrics.confusion_matrix(y_test, pred)\n",
    "plot_confusion_matrix(cm, classes=['FAKE', 'REAL'])"
   ]
  },
  {
   "cell_type": "markdown",
   "metadata": {},
   "source": [
    "# PassiveAggressiveClassifier"
   ]
  },
  {
   "cell_type": "code",
   "execution_count": 79,
   "metadata": {},
   "outputs": [],
   "source": [
    "from sklearn.linear_model import PassiveAggressiveClassifier\n",
    "linear_clf = PassiveAggressiveClassifier(n_iter_no_change=50)"
   ]
  },
  {
   "cell_type": "code",
   "execution_count": 80,
   "metadata": {},
   "outputs": [
    {
     "name": "stdout",
     "output_type": "stream",
     "text": [
      "accuracy:   0.951\n",
      "Confusion matrix, without normalization\n"
     ]
    },
    {
     "data": {
      "image/png": "[encoded data removed]",
      "text/plain": [
       "<Figure size 432x288 with 2 Axes>"
      ]
     },
     "metadata": {
      "needs_background": "light"
     },
     "output_type": "display_data"
    }
   ],
   "source": [
    "linear_clf.fit(X_train, y_train)\n",
    "pred = linear_clf.predict(X_test)\n",
    "score = metrics.accuracy_score(y_test, pred)\n",
    "print(\"accuracy:   %0.3f\" % score)\n",
    "cm = metrics.confusion_matrix(y_test, pred)\n",
    "plot_confusion_matrix(cm, classes=['FAKE Data', 'REAL Data'])"
   ]
  },
  {
   "cell_type": "markdown",
   "metadata": {},
   "source": [
    "# LogisticRegression"
   ]
  },
  {
   "cell_type": "code",
   "execution_count": null,
   "metadata": {},
   "outputs": [],
   "source": [
    "from sklearn.linear_model import LogisticRegression\n",
    "logreg = LogisticRegression(C=1e5)"
   ]
  },
  {
   "cell_type": "code",
   "execution_count": 84,
   "metadata": {},
   "outputs": [
    {
     "name": "stderr",
     "output_type": "stream",
     "text": [
      "C:\\Users\\Nikhil\\anaconda3\\lib\\site-packages\\sklearn\\linear_model\\_logistic.py:762: ConvergenceWarning: lbfgs failed to converge (status=1):\n",
      "STOP: TOTAL NO. of ITERATIONS REACHED LIMIT.\n",
      "\n",
      "Increase the number of iterations (max_iter) or scale the data as shown in:\n",
      "    https://scikit-learn.org/stable/modules/preprocessing.html\n",
      "Please also refer to the documentation for alternative solver options:\n",
      "    https://scikit-learn.org/stable/modules/linear_model.html#logistic-regression\n",
      "  n_iter_i = _check_optimize_result(\n"
     ]
    },
    {
     "name": "stdout",
     "output_type": "stream",
     "text": [
      "accuracy:   0.952\n",
      "Confusion matrix, without normalization\n"
     ]
    },
    {
     "data": {
      "image/png": "[encoded data removed]",
      "text/plain": [
       "<Figure size 432x288 with 2 Axes>"
      ]
     },
     "metadata": {
      "needs_background": "light"
     },
     "output_type": "display_data"
    }
   ],
   "source": [
    "logreg.fit(X_train, y_train)\n",
    "pred = logreg.predict(X_test)\n",
    "score = metrics.accuracy_score(y_test, pred)\n",
    "print(\"accuracy:   %0.3f\" % score)\n",
    "cm = metrics.confusion_matrix(y_test, pred)\n",
    "plot_confusion_matrix(cm, classes=['FAKE Data', 'REAL Data'])"
   ]
  },
  {
   "cell_type": "markdown",
   "metadata": {},
   "source": [
    "# MultinomialNB with hyperparameter tunning"
   ]
  },
  {
   "cell_type": "code",
   "execution_count": 85,
   "metadata": {},
   "outputs": [],
   "source": [
    "classifier=MultinomialNB(alpha=0.1)"
   ]
  },
  {
   "cell_type": "code",
   "execution_count": 86,
   "metadata": {},
   "outputs": [
    {
     "name": "stderr",
     "output_type": "stream",
     "text": [
      "C:\\Users\\Nikhil\\anaconda3\\lib\\site-packages\\sklearn\\naive_bayes.py:511: UserWarning: alpha too small will result in numeric errors, setting alpha = 1.0e-10\n",
      "  warnings.warn('alpha too small will result in numeric errors, '\n"
     ]
    },
    {
     "name": "stdout",
     "output_type": "stream",
     "text": [
      "Alpha: 0.0, Score : 0.8913971934106162\n",
      "Alpha: 0.1, Score : 0.8903294691885296\n",
      "Alpha: 0.2, Score : 0.8900244051250763\n",
      "Alpha: 0.30000000000000004, Score : 0.8898718730933496\n",
      "Alpha: 0.4, Score : 0.8894142769981697\n",
      "Alpha: 0.5, Score : 0.889261744966443\n",
      "Alpha: 0.6000000000000001, Score : 0.8891092129347163\n",
      "Alpha: 0.7000000000000001, Score : 0.8891092129347163\n",
      "Alpha: 0.8, Score : 0.889261744966443\n",
      "Alpha: 0.9, Score : 0.8891092129347163\n"
     ]
    }
   ],
   "source": [
    "previous_score=0\n",
    "for alpha in np.arange(0,1,0.1):\n",
    "    sub_classifier=MultinomialNB(alpha=alpha)\n",
    "    sub_classifier.fit(X_train,y_train)\n",
    "    y_pred=sub_classifier.predict(X_test)\n",
    "    score = metrics.accuracy_score(y_test, y_pred)\n",
    "    if score>previous_score:\n",
    "        classifier=sub_classifier\n",
    "    print(\"Alpha: {}, Score : {}\".format(alpha,score))"
   ]
  },
  {
   "cell_type": "code",
   "execution_count": 90,
   "metadata": {},
   "outputs": [],
   "source": [
    "## Get Features names\n",
    "feature_names = tfidf_v.get_feature_names()"
   ]
  },
  {
   "cell_type": "code",
   "execution_count": 91,
   "metadata": {},
   "outputs": [
    {
     "data": {
      "text/plain": [
       "array([-9.59951502, -9.39604393, -8.79033552, ..., -8.29924371,\n",
       "       -9.33426075, -8.45635164])"
      ]
     },
     "execution_count": 91,
     "metadata": {},
     "output_type": "execute_result"
    }
   ],
   "source": [
    "classifier.coef_[0]"
   ]
  },
  {
   "cell_type": "code",
   "execution_count": 92,
   "metadata": {},
   "outputs": [
    {
     "data": {
      "text/plain": [
       "[(-5.37683103650725, 'clinton'),\n",
       " (-5.444735839356878, 'trump'),\n",
       " (-5.683975047629063, 'hillary'),\n",
       " (-5.862427540769164, 'us'),\n",
       " (-6.086491188383074, 'people'),\n",
       " (-6.103168951589102, 'election'),\n",
       " (-6.166793704050107, 'one'),\n",
       " (-6.244461752474542, 'would'),\n",
       " (-6.276051331833836, 'hillary clinton'),\n",
       " (-6.282242290984981, 'fbi'),\n",
       " (-6.3179890544307105, 'said'),\n",
       " (-6.341139487239225, 'russia'),\n",
       " (-6.374416446422491, 'world'),\n",
       " (-6.405025911159454, 'new'),\n",
       " (-6.41114475213113, 'like'),\n",
       " (-6.462240671216925, 'october'),\n",
       " (-6.468926078213362, 'state'),\n",
       " (-6.469393017837248, 'media'),\n",
       " (-6.486071637809418, 'war'),\n",
       " (-6.498258107722949, 'president')]"
      ]
     },
     "execution_count": 92,
     "metadata": {},
     "output_type": "execute_result"
    }
   ],
   "source": [
    "### Most real word\n",
    "sorted(zip(classifier.coef_[0], feature_names), reverse=True)[:20]"
   ]
  },
  {
   "cell_type": "code",
   "execution_count": 93,
   "metadata": {},
   "outputs": [
    {
     "data": {
      "text/plain": [
       "[(-11.144588908572809, 'briefing posted'),\n",
       " (-11.144588908572809, 'gorsuch'),\n",
       " (-11.144588908572809, 'judge gorsuch'),\n",
       " (-11.144588908572809, 'mr bannon'),\n",
       " (-11.144588908572809, 'mr christie'),\n",
       " (-11.144588908572809, 'mr kushner'),\n",
       " (-11.144588908572809, 'mr sanders'),\n",
       " (-11.144588908572809, 'pruitt'),\n",
       " (-11.144588908572809, 'tillerson'),\n",
       " (-11.113652435638995, 'said ms'),\n",
       " (-11.067189812180672, 'mr ailes'),\n",
       " (-11.054764627477704, 'mr erdogan'),\n",
       " (-11.04471063051344, 'mr ryan'),\n",
       " (-11.03612743890834, 'devos'),\n",
       " (-11.020141969164285, 'like mr'),\n",
       " (-11.013162901741996, 'said mr trump'),\n",
       " (-10.984181268765482, 'twitter email'),\n",
       " (-10.98346510038746, 'mr pence'),\n",
       " (-10.969050221123164, 'mr assad'),\n",
       " (-10.948960784167456, 'time mr')]"
      ]
     },
     "execution_count": 93,
     "metadata": {},
     "output_type": "execute_result"
    }
   ],
   "source": [
    "### Most fake\n",
    "sorted(zip(classifier.coef_[0], feature_names))[:20]"
   ]
  },
  {
   "cell_type": "code",
   "execution_count": null,
   "metadata": {},
   "outputs": [],
   "source": []
  }
 ],
 "metadata": {
  "kernelspec": {
   "display_name": "Python 3",
   "language": "python",
   "name": "python3"
  },
  "language_info": {
   "codemirror_mode": {
    "name": "ipython",
    "version": 3
   },
   "file_extension": ".py",
   "mimetype": "text/x-python",
   "name": "python",
   "nbconvert_exporter": "python",
   "pygments_lexer": "ipython3",
   "version": "3.8.3"
  }
 },
 "nbformat": 4,
 "nbformat_minor": 4
}
